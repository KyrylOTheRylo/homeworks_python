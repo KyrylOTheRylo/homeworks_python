{
 "cells": [
  {
   "cell_type": "code",
   "execution_count": 1,
   "id": "d434917f",
   "metadata": {},
   "outputs": [],
   "source": [
    "import numpy as np"
   ]
  },
  {
   "cell_type": "code",
   "execution_count": 101,
   "id": "e3d502d8",
   "metadata": {},
   "outputs": [],
   "source": [
    "f = lambda x: x\n",
    "a = -1\n",
    "b = 3"
   ]
  },
  {
   "cell_type": "code",
   "execution_count": 108,
   "id": "7908c957",
   "metadata": {},
   "outputs": [],
   "source": [
    "def central_sq(f,a,b,e):\n",
    "    M2 = np.max([f(np.linspace(a,b, 1000)) **3])\n",
    "    \n",
    "    h = np.sqrt(24*e/M2/(b-a))\n",
    "    n = int((b-a)/h)+1\n",
    "    h = (b-a)/n\n",
    "    \n",
    "    answ = np.sum(f(np.linspace(a+h/2,b-h/2,n))) * h\n",
    "\n",
    "    return(answ)\n",
    "def trapezium(f):\n",
    "    pass\n",
    "def simpson(f):\n",
    "    pass"
   ]
  },
  {
   "cell_type": "code",
   "execution_count": 109,
   "id": "d3a6c87b",
   "metadata": {},
   "outputs": [
    {
     "data": {
      "text/plain": [
       "3.9999999999999987"
      ]
     },
     "execution_count": 109,
     "metadata": {},
     "output_type": "execute_result"
    }
   ],
   "source": [
    "central_sq(f,a,b, 0.0001)"
   ]
  },
  {
   "cell_type": "code",
   "execution_count": null,
   "id": "b7c3b3ca",
   "metadata": {},
   "outputs": [],
   "source": []
  },
  {
   "cell_type": "code",
   "execution_count": null,
   "id": "0bce22bc",
   "metadata": {},
   "outputs": [],
   "source": []
  }
 ],
 "metadata": {
  "kernelspec": {
   "display_name": "Python 3 (ipykernel)",
   "language": "python",
   "name": "python3"
  },
  "language_info": {
   "codemirror_mode": {
    "name": "ipython",
    "version": 3
   },
   "file_extension": ".py",
   "mimetype": "text/x-python",
   "name": "python",
   "nbconvert_exporter": "python",
   "pygments_lexer": "ipython3",
   "version": "3.11.4"
  }
 },
 "nbformat": 4,
 "nbformat_minor": 5
}
