{
 "cells": [
  {
   "cell_type": "code",
   "execution_count": 1,
   "id": "524018a5",
   "metadata": {},
   "outputs": [],
   "source": [
    "import numpy as np"
   ]
  },
  {
   "cell_type": "code",
   "execution_count": 110,
   "id": "64dcfab5",
   "metadata": {},
   "outputs": [],
   "source": [
    "f = lambda x: 1/(2+x)\n",
    "a = -1\n",
    "b = 3"
   ]
  },
  {
   "cell_type": "code",
   "execution_count": 126,
   "id": "63a05785",
   "metadata": {},
   "outputs": [],
   "source": [
    "def central_sq(f,a,b,e):\n",
    "    M2 = np.max([f(np.linspace(a,b, 1000)) **3])\n",
    "    \n",
    "    h = np.sqrt(24*e/M2/(b-a))\n",
    "    n = int((b-a)/h)+1\n",
    "    h = (b-a)/n\n",
    "        \n",
    "    answ = np.sum(f(np.linspace(a+h/2,b-h/2,n))) * h\n",
    "    \n",
    "    return(answ)\n",
    "def trapezium(f,a,b,e):\n",
    "    M2 = np.max([f(np.linspace(a,b, 1000)) **3])\n",
    "    h = np.sqrt(12*e/M2/(b-a))\n",
    "    n = int((b-a)/h)+1\n",
    "    h = (b-a)/n\n",
    "    \n",
    "    answ = np.sum(f(np.linspace(a+h,b-h,n-1))) * h +h*(f(a)/2 + f(b)/2)\n",
    "    \n",
    "    return(answ)\n",
    "    \n",
    "def simpson(f):\n",
    "    pass"
   ]
  },
  {
   "cell_type": "code",
   "execution_count": 127,
   "id": "9f20943a",
   "metadata": {},
   "outputs": [
    {
     "data": {
      "text/plain": [
       "1.609414119649684"
      ]
     },
     "execution_count": 127,
     "metadata": {},
     "output_type": "execute_result"
    }
   ],
   "source": [
    "central_sq(f,a,b, 0.0001)"
   ]
  },
  {
   "cell_type": "code",
   "execution_count": 128,
   "id": "8c15a8d4",
   "metadata": {},
   "outputs": [
    {
     "data": {
      "text/plain": [
       "1.6094618992426388"
      ]
     },
     "execution_count": 128,
     "metadata": {},
     "output_type": "execute_result"
    }
   ],
   "source": [
    "trapezium(f,a,b, 0.0001)"
   ]
  },
  {
   "cell_type": "code",
   "execution_count": null,
   "id": "0050f6e1",
   "metadata": {},
   "outputs": [],
   "source": []
  }
 ],
 "metadata": {
  "kernelspec": {
   "display_name": "Python 3 (ipykernel)",
   "language": "python",
   "name": "python3"
  },
  "language_info": {
   "codemirror_mode": {
    "name": "ipython",
    "version": 3
   },
   "file_extension": ".py",
   "mimetype": "text/x-python",
   "name": "python",
   "nbconvert_exporter": "python",
   "pygments_lexer": "ipython3",
   "version": "3.11.4"
  }
 },
 "nbformat": 4,
 "nbformat_minor": 5
}
