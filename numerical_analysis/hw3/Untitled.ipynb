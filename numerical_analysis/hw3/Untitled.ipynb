{
 "cells": [
  {
   "cell_type": "code",
   "execution_count": 1,
   "id": "3729f895",
   "metadata": {},
   "outputs": [],
   "source": [
    "import numpy as np"
   ]
  },
  {
   "cell_type": "code",
   "execution_count": 195,
   "id": "34145112",
   "metadata": {},
   "outputs": [],
   "source": [
    "f = lambda x: np.sin(x)\n",
    "a = -1\n",
    "b = 3"
   ]
  },
  {
   "cell_type": "code",
   "execution_count": 196,
   "id": "a2dff2fa",
   "metadata": {},
   "outputs": [],
   "source": [
    "def central_sq(f,a,b,e):\n",
    "    M2 = np.max([f(np.linspace(a,b, 1000)) **3])\n",
    "    \n",
    "    h = np.sqrt(24*e/M2/(b-a))\n",
    "    n = int((b-a)/h)+1\n",
    "    h = (b-a)/n\n",
    "        \n",
    "    answ = np.sum(f(np.linspace(a+h/2,b-h/2,n))) * h\n",
    "    n2 = 2 *n\n",
    "    h2 = (b-a)/n2\n",
    "    print((answ - np.sum(f(np.linspace(a+h2/2,b-h2/2,n2))) * h2 )/(2**2 -1))\n",
    "    \n",
    "    \n",
    "    \n",
    "    return(answ)\n",
    "def trapezium(f,a,b,e):\n",
    "    M2 = np.max([f(np.linspace(a,b, 1000)) **3])\n",
    "    h = np.sqrt(12*e/M2/(b-a))\n",
    "    n = int((b-a)/h)+1\n",
    "    h = (b-a)/n\n",
    "    \n",
    "    answ = np.sum(f(np.linspace(a+h,b-h,n-1))) * h +h*(f(a)/2 + f(b)/2)\n",
    "    n2 = 2 *n\n",
    "    h2 = (b-a)/n2\n",
    "    \n",
    "    print((answ - np.sum(f(np.linspace(a+h2,b-h2,n2-1))) * h2 +h2*(f(a)/2 + f(b)/2))/(2**2 -1))\n",
    "    return(answ)\n",
    "    \n",
    "def simpson(f,a,b,e):\n",
    "    M4 = np.max([f(np.linspace(a,b, 1000)) **5])\n",
    "    \n",
    "    h = np.sqrt(np.sqrt(2880*e/M4/(b-a)))\n",
    "    n = int((b-a)/h)+1\n",
    "    h = (b-a)/n\n",
    "    \n",
    "\n",
    "    \n",
    "    answ = (f(a) + f(b) + 4*np.sum(f(np.linspace(a+h/2, b-h/2, n))) + 2 * np.sum(f(np.linspace(a+h, b-h, n-1)))) * h / 6\n",
    "    n2 = 2 *n\n",
    "    h2 = (b-a)/n2\n",
    "    \n",
    "    print((answ -(f(a) + f(b) + 4*np.sum(f(np.linspace(a+h2/2, b-h2/2, n2))) + \n",
    "                 2 * np.sum(f(np.linspace(a+h2, b-h2, n2-1)))) * h2 / 6 )/(2**4-1))\n",
    "    return (answ)"
   ]
  },
  {
   "cell_type": "code",
   "execution_count": 197,
   "id": "938e498c",
   "metadata": {},
   "outputs": [
    {
     "name": "stdout",
     "output_type": "stream",
     "text": [
      "9.482996187859527e-06\n"
     ]
    },
    {
     "data": {
      "text/plain": [
       "1.5303327342887993"
      ]
     },
     "execution_count": 197,
     "metadata": {},
     "output_type": "execute_result"
    }
   ],
   "source": [
    "central_sq(f,a,b, 0.0001)"
   ]
  },
  {
   "cell_type": "code",
   "execution_count": 200,
   "id": "66019ead",
   "metadata": {},
   "outputs": [
    {
     "name": "stdout",
     "output_type": "stream",
     "text": [
      "-0.0064026255490382536\n"
     ]
    },
    {
     "data": {
      "text/plain": [
       "1.5299221778450283"
      ]
     },
     "execution_count": 200,
     "metadata": {},
     "output_type": "execute_result"
    }
   ],
   "source": [
    "trapezium(f,a,b, 0.001)"
   ]
  },
  {
   "cell_type": "code",
   "execution_count": 201,
   "id": "9592e38f",
   "metadata": {},
   "outputs": [
    {
     "name": "stdout",
     "output_type": "stream",
     "text": [
      "2.268841011362118e-09\n"
     ]
    },
    {
     "data": {
      "text/plain": [
       "1.530294838769595"
      ]
     },
     "execution_count": 201,
     "metadata": {},
     "output_type": "execute_result"
    }
   ],
   "source": [
    "simpson(f,a,b, 0.0000001)"
   ]
  },
  {
   "cell_type": "code",
   "execution_count": null,
   "id": "7b2c0ead",
   "metadata": {},
   "outputs": [],
   "source": []
  },
  {
   "cell_type": "code",
   "execution_count": null,
   "id": "1849ad26",
   "metadata": {},
   "outputs": [],
   "source": []
  }
 ],
 "metadata": {
  "kernelspec": {
   "display_name": "Python 3 (ipykernel)",
   "language": "python",
   "name": "python3"
  },
  "language_info": {
   "codemirror_mode": {
    "name": "ipython",
    "version": 3
   },
   "file_extension": ".py",
   "mimetype": "text/x-python",
   "name": "python",
   "nbconvert_exporter": "python",
   "pygments_lexer": "ipython3",
   "version": "3.11.4"
  }
 },
 "nbformat": 4,
 "nbformat_minor": 5
}
