{
 "cells": [
  {
   "cell_type": "code",
   "execution_count": 1,
   "id": "76871917",
   "metadata": {},
   "outputs": [],
   "source": [
    "import numpy as np"
   ]
  },
  {
   "cell_type": "code",
   "execution_count": 22,
   "id": "ea481657",
   "metadata": {},
   "outputs": [
    {
     "name": "stdout",
     "output_type": "stream",
     "text": [
      "[ 0.54030231 -0.80114362 -0.65364362]\n"
     ]
    }
   ],
   "source": [
    "X = np.array([[1,1],[1,2.5],[1,4]])\n",
    "y = np.cos(np.array([1,2.5,4]))\n",
    "print(y)\n",
    "\n",
    "XT = X.T"
   ]
  },
  {
   "cell_type": "code",
   "execution_count": 21,
   "id": "cc3958a7",
   "metadata": {},
   "outputs": [
    {
     "data": {
      "text/plain": [
       "array([-0.84844581, -0.29729181])"
      ]
     },
     "execution_count": 21,
     "metadata": {},
     "output_type": "execute_result"
    }
   ],
   "source": [
    "((XT @X)**-1)@XT@y"
   ]
  },
  {
   "cell_type": "code",
   "execution_count": null,
   "id": "7033dbd3",
   "metadata": {},
   "outputs": [],
   "source": []
  }
 ],
 "metadata": {
  "kernelspec": {
   "display_name": "Python 3 (ipykernel)",
   "language": "python",
   "name": "python3"
  },
  "language_info": {
   "codemirror_mode": {
    "name": "ipython",
    "version": 3
   },
   "file_extension": ".py",
   "mimetype": "text/x-python",
   "name": "python",
   "nbconvert_exporter": "python",
   "pygments_lexer": "ipython3",
   "version": "3.11.4"
  }
 },
 "nbformat": 4,
 "nbformat_minor": 5
}
