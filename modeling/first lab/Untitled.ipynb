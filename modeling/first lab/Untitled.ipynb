{
 "cells": [
  {
   "cell_type": "code",
   "execution_count": 29,
   "id": "3124f7f0",
   "metadata": {},
   "outputs": [],
   "source": [
    "import numpy as np"
   ]
  },
  {
   "cell_type": "code",
   "execution_count": 30,
   "id": "f524490a",
   "metadata": {},
   "outputs": [],
   "source": [
    "\n",
    "def matrix_from_keyboard(m,n, A =[]):\n",
    "    \n",
    "    for i in range(m):\n",
    "        while True:\n",
    "            row = input(f\"enter row {i+1} of A \")\n",
    "            row_list = [float(x) for x in row.split()]\n",
    "            if len(row_list) == n:\n",
    "                A.append(row_list)\n",
    "                break\n",
    "            else:\n",
    "                print(f\"must be {n} \")\n",
    "    return np.array(A)"
   ]
  },
  {
   "cell_type": "code",
   "execution_count": 31,
   "id": "a2f7be3c",
   "metadata": {},
   "outputs": [
    {
     "name": "stdout",
     "output_type": "stream",
     "text": [
      "rows of A: 3\n",
      "columns of A: 4\n",
      "enter row 1 of A 2 1 1 3\n",
      "enter row 2 of A 1 0 1 -1\n",
      "enter row 3 of A 1 1 0 4\n",
      "Enter b 3 5 6\n"
     ]
    }
   ],
   "source": [
    "A_rows = int(input(\"rows of A: \"))\n",
    "A_cols = int(input(\"columns of A: \"))\n",
    "A = []\n",
    "matrix_from_keyboard(A_rows, A_cols, A)\n",
    "\n",
    "while True:\n",
    "    b_input = input(f\"Enter b \")\n",
    "    B = np.array([float(x) for x in b_input.split()])\n",
    "    if len(B) == A_rows:\n",
    "        break\n",
    "    else:\n",
    "        print(f\"must be {A_rows} \")\n"
   ]
  },
  {
   "cell_type": "code",
   "execution_count": 32,
   "id": "4084b7ab",
   "metadata": {},
   "outputs": [
    {
     "name": "stdout",
     "output_type": "stream",
     "text": [
      "[[2.0, 1.0, 1.0, 3.0], [1.0, 0.0, 1.0, -1.0], [1.0, 1.0, 0.0, 4.0]]\n"
     ]
    },
    {
     "data": {
      "text/plain": [
       "array([3., 5., 6.])"
      ]
     },
     "execution_count": 32,
     "metadata": {},
     "output_type": "execute_result"
    }
   ],
   "source": [
    "print(A)\n",
    "B"
   ]
  },
  {
   "cell_type": "code",
   "execution_count": 37,
   "id": "3367bddf",
   "metadata": {},
   "outputs": [
    {
     "data": {
      "text/plain": [
       "array([2, 0, 5, 3])"
      ]
     },
     "execution_count": 37,
     "metadata": {},
     "output_type": "execute_result"
    }
   ],
   "source": [
    "v = np.array(np.random.randint(0,10,A_cols))\n",
    "v"
   ]
  },
  {
   "cell_type": "code",
   "execution_count": 35,
   "id": "df269a89",
   "metadata": {},
   "outputs": [
    {
     "name": "stdout",
     "output_type": "stream",
     "text": [
      "[[ 0.2         0.26666667 -0.06666667]\n",
      " [ 0.04444444  0.02222222  0.02222222]\n",
      " [ 0.15555556  0.24444444 -0.08888889]\n",
      " [ 0.02222222 -0.15555556  0.17777778]]\n",
      "[1.53333333 0.37777778 1.15555556 0.35555556]\n"
     ]
    },
    {
     "data": {
      "text/plain": [
       "array([ 2.66666667, -2.66666667, -2.66666667])"
      ]
     },
     "execution_count": 35,
     "metadata": {},
     "output_type": "execute_result"
    }
   ],
   "source": [
    "A_pinv = np.linalg.pinv(A)\n",
    "x1 = A_pinv @ B\n",
    "x1\n",
    "print(A_pinv, x1, sep= \"\\n\")\n",
    "A @ x1 - B"
   ]
  },
  {
   "cell_type": "code",
   "execution_count": 38,
   "id": "156c872a",
   "metadata": {},
   "outputs": [
    {
     "data": {
      "text/plain": [
       "array([-0.2       , -0.82222222,  3.62222222,  1.08888889])"
      ]
     },
     "execution_count": 38,
     "metadata": {},
     "output_type": "execute_result"
    }
   ],
   "source": [
    "A_pinv@ B +v - A_pinv @ A @ v "
   ]
  },
  {
   "cell_type": "code",
   "execution_count": null,
   "id": "0861d9dc",
   "metadata": {},
   "outputs": [],
   "source": []
  }
 ],
 "metadata": {
  "kernelspec": {
   "display_name": "Python 3 (ipykernel)",
   "language": "python",
   "name": "python3"
  },
  "language_info": {
   "codemirror_mode": {
    "name": "ipython",
    "version": 3
   },
   "file_extension": ".py",
   "mimetype": "text/x-python",
   "name": "python",
   "nbconvert_exporter": "python",
   "pygments_lexer": "ipython3",
   "version": "3.10.9"
  }
 },
 "nbformat": 4,
 "nbformat_minor": 5
}
