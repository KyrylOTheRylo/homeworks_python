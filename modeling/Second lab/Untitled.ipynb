{
 "cells": [
  {
   "cell_type": "code",
   "execution_count": 34,
   "id": "17eefb39",
   "metadata": {},
   "outputs": [],
   "source": [
    "import scipy as sp\n",
    "import numpy as np\n",
    "import sympy as smp"
   ]
  },
  {
   "cell_type": "code",
   "execution_count": 35,
   "id": "ce55f471",
   "metadata": {},
   "outputs": [],
   "source": [
    "import math\n",
    "def create_function(expression):\n",
    "    t = smp.symbols('t')\n",
    "    func = smp.lambdify(t, expression, 'numpy')\n",
    "    return func\n",
    "\n"
   ]
  },
  {
   "cell_type": "code",
   "execution_count": 36,
   "id": "26b5a293",
   "metadata": {},
   "outputs": [
    {
     "name": "stdout",
     "output_type": "stream",
     "text": [
      "ROWS: 2\n",
      "COLUMNS: 2\n",
      "Insert functions that depend on t or scalars as a row with length = 2: sin(t) 1-t**3\n",
      "You've inserted a row 1\n",
      "Insert functions that depend on t or scalars as a row with length = 2: t**2 cos(t)\n",
      "You've inserted a row 2\n"
     ]
    }
   ],
   "source": [
    "\n",
    "while True:\n",
    "    try:\n",
    "        rows =  int(input(\"ROWS: \"))\n",
    "        break\n",
    "    except Exception:\n",
    "        print(\"SHOULD BE INT \")\n",
    "while True:\n",
    "    try:        \n",
    "        columns =int(input(\"COLUMNS: \"))\n",
    "        break\n",
    "    except Exception:\n",
    "        print(\"SHOULD BE INT \")  \n",
    "inp = []\n",
    "i = 0\n",
    "while i < rows:\n",
    "    \n",
    "    data = input(f\"Insert functions that depend on t or scalars as a row with length = {columns}: \").split()\n",
    "    if len(data) != columns:\n",
    "        print(f\"ERROR: Row should have a length of {columns}.\")\n",
    "        continue\n",
    "\n",
    "    try:\n",
    "        tmp = lambda t, data=data: np.array([create_function(smp.sympify(expr))(t) for expr in data])\n",
    "        inp.append(tmp)\n",
    "        print(f\"You've inserted a row {i + 1}\")\n",
    "        i += 1\n",
    "    except smp.SympifyError:\n",
    "        print(\"ERROR: Insert valid functions or scalars.\")\n",
    "        continue\n",
    "            \n",
    "A = lambda t: np.array([i(t) for i in inp])\n",
    "\n"
   ]
  },
  {
   "cell_type": "code",
   "execution_count": 37,
   "id": "8fab4e9d",
   "metadata": {},
   "outputs": [
    {
     "name": "stdout",
     "output_type": "stream",
     "text": [
      "B :  (len should = 2)5.322 5.067\n"
     ]
    },
    {
     "data": {
      "text/plain": [
       "array([5.322, 5.067])"
      ]
     },
     "execution_count": 37,
     "metadata": {},
     "output_type": "execute_result"
    }
   ],
   "source": [
    "while True:\n",
    "    try:        \n",
    "        data =input(\"B :  (len should = {})\".format(rows)).split()\n",
    "        if len(data) != rows:\n",
    "            raise ValueError\n",
    "        b = np.array([float(i) for i in data ])\n",
    "        break\n",
    "    except Exception:\n",
    "        print(\"B :  (len should = {})\".format(rows))  \n",
    "b"
   ]
  },
  {
   "cell_type": "code",
   "execution_count": 38,
   "id": "70486643",
   "metadata": {},
   "outputs": [
    {
     "name": "stdout",
     "output_type": "stream",
     "text": [
      "v :  (len should = 2)0  0\n"
     ]
    },
    {
     "data": {
      "text/plain": [
       "array([0, 0])"
      ]
     },
     "execution_count": 38,
     "metadata": {},
     "output_type": "execute_result"
    }
   ],
   "source": [
    "v = 0\n",
    "while True:\n",
    "    try:        \n",
    "        data =input(\"v :  (len should = {})\".format(columns)).split()\n",
    "        if len(data) != columns:\n",
    "            raise ValueError\n",
    "        v = lambda t, data=data: np.array([create_function(smp.sympify(expr))(t) for expr in data]) \n",
    "        break\n",
    "    except Exception:\n",
    "        print(\"v :  (len should = {})\".format(columns))  \n",
    "v(1)        "
   ]
  },
  {
   "cell_type": "code",
   "execution_count": 39,
   "id": "fd005693",
   "metadata": {},
   "outputs": [],
   "source": [
    "#A = lambda t:np.array([[t*50-1.23, np.sin(t)+2], [(t*2)**2 + np.pi, np.cos(t)], [np.exp(t), np.cos(t)**2]])\n",
    "#b = np.array([1.4, -2.12, 3])\n",
    "#v = lambda t: np.array([t*5-3, np.log(t)]) "
   ]
  },
  {
   "cell_type": "code",
   "execution_count": 40,
   "id": "4c324d04",
   "metadata": {},
   "outputs": [],
   "source": [
    "T = 1"
   ]
  },
  {
   "cell_type": "code",
   "execution_count": 41,
   "id": "771cf980",
   "metadata": {},
   "outputs": [
    {
     "data": {
      "text/plain": [
       "array([0., 1.])"
      ]
     },
     "execution_count": 41,
     "metadata": {},
     "output_type": "execute_result"
    }
   ],
   "source": [
    "A(0)[0]"
   ]
  },
  {
   "cell_type": "code",
   "execution_count": 42,
   "id": "49fc07ba",
   "metadata": {},
   "outputs": [],
   "source": [
    "from scipy.integrate import quad_vec\n",
    "\n",
    "P = quad_vec(lambda tau: A(tau) @ A(tau).T, 0, T )[0]"
   ]
  },
  {
   "cell_type": "code",
   "execution_count": 43,
   "id": "f866ef23",
   "metadata": {},
   "outputs": [
    {
     "data": {
      "text/plain": [
       "array([ 4.49736149, -1.18789491])"
      ]
     },
     "execution_count": 43,
     "metadata": {},
     "output_type": "execute_result"
    }
   ],
   "source": [
    "\n",
    "x_hat= lambda tau: A(tau).T @ np.linalg.pinv(P) @ b\n",
    "x_hat(1)#1.45"
   ]
  },
  {
   "cell_type": "code",
   "execution_count": 44,
   "id": "503b729c",
   "metadata": {},
   "outputs": [],
   "source": [
    "Av = quad_vec(lambda tau: A(tau) @ v(tau).T, 0, T )[0]\n"
   ]
  },
  {
   "cell_type": "code",
   "execution_count": 45,
   "id": "3100d2e7",
   "metadata": {},
   "outputs": [],
   "source": [
    "Omega_xt =  lambda t : A(t).T @ np.linalg.pinv(P) @b + v(t) - A(t).T @ np.linalg.pinv(P) @ Av # 1.43"
   ]
  },
  {
   "cell_type": "code",
   "execution_count": 46,
   "id": "81d9e96d",
   "metadata": {},
   "outputs": [
    {
     "data": {
      "text/plain": [
       "array([ 4.49736149, -1.18789491])"
      ]
     },
     "execution_count": 46,
     "metadata": {},
     "output_type": "execute_result"
    }
   ],
   "source": [
    "Omega_xt(1) "
   ]
  },
  {
   "cell_type": "code",
   "execution_count": 47,
   "id": "e4c61ef4",
   "metadata": {},
   "outputs": [
    {
     "data": {
      "text/plain": [
       "2.4158453015843406e-13"
      ]
     },
     "execution_count": 47,
     "metadata": {},
     "output_type": "execute_result"
    }
   ],
   "source": [
    "eps_sq = b.T @ b - b.T @ P @ np.linalg.pinv(P) @ b\n",
    "eps_sq"
   ]
  },
  {
   "cell_type": "code",
   "execution_count": 50,
   "id": "7ebcb496",
   "metadata": {},
   "outputs": [
    {
     "data": {
      "text/plain": [
       "array([5.322, 5.067])"
      ]
     },
     "execution_count": 50,
     "metadata": {},
     "output_type": "execute_result"
    }
   ],
   "source": [
    "check1 = quad_vec(lambda tau: A(tau) @ Omega_xt(tau),0, 1)[0]\n",
    "check1"
   ]
  },
  {
   "cell_type": "code",
   "execution_count": 51,
   "id": "a2b03057",
   "metadata": {},
   "outputs": [
    {
     "data": {
      "text/plain": [
       "array([5.322, 5.067])"
      ]
     },
     "execution_count": 51,
     "metadata": {},
     "output_type": "execute_result"
    }
   ],
   "source": [
    "check2 = quad_vec(lambda tau: A(tau) @ x_hat(tau),0, 1)[0]\n",
    "check2"
   ]
  },
  {
   "cell_type": "code",
   "execution_count": 16,
   "id": "2a41842a",
   "metadata": {},
   "outputs": [
    {
     "name": "stdout",
     "output_type": "stream",
     "text": [
      "Determinant: 0.0\n",
      "[[0.         0.         0.         0.        ]\n",
      " [0.         2.         1.84147098 0.54030231]\n",
      " [0.         1.84147098 1.70807342 0.54030231]\n",
      " [0.         0.54030231 0.54030231 0.29192658]]\n",
      "Determinant: 0.0\n",
      "[[0.         0.         0.         0.         0.         0.        ]\n",
      " [0.         2.         1.84147098 0.54030231 0.         2.        ]\n",
      " [0.         1.84147098 1.70807342 0.54030231 0.         1.84147098]\n",
      " [0.         0.54030231 0.54030231 0.29192658 0.         0.54030231]\n",
      " [0.         0.         0.         0.         0.         0.        ]\n",
      " [0.         2.         1.84147098 0.54030231 0.         2.        ]]\n",
      "Determinant: 0.0\n",
      "[[0.         0.         0.         0.         0.         0.\n",
      "  0.         0.        ]\n",
      " [0.         2.         1.84147098 0.54030231 0.         2.\n",
      "  0.72942554 1.75258256]\n",
      " [0.         1.84147098 1.70807342 0.54030231 0.         1.84147098\n",
      "  0.65342268 1.61386967]\n",
      " [0.         0.54030231 0.54030231 0.29192658 0.         0.54030231\n",
      "  0.13507558 0.47415988]\n",
      " [0.         0.         0.         0.         0.         0.\n",
      "  0.         0.        ]\n",
      " [0.         2.         1.84147098 0.54030231 0.         2.\n",
      "  0.72942554 1.75258256]\n",
      " [0.         0.72942554 0.65342268 0.13507558 0.         0.72942554\n",
      "  0.29234885 0.63889299]\n",
      " [0.         1.75258256 1.61386967 0.47415988 0.         1.75258256\n",
      "  0.63889299 1.53577615]]\n",
      "Determinant: 0.0\n",
      "[[0.         0.         0.         0.         0.         0.\n",
      "  0.         0.         0.         0.        ]\n",
      " [0.         2.         1.84147098 0.54030231 0.         2.\n",
      "  0.72942554 1.75258256 1.84147098 0.54030231]\n",
      " [0.         1.84147098 1.70807342 0.54030231 0.         1.84147098\n",
      "  0.65342268 1.61386967 1.70807342 0.54030231]\n",
      " [0.         0.54030231 0.54030231 0.29192658 0.         0.54030231\n",
      "  0.13507558 0.47415988 0.54030231 0.29192658]\n",
      " [0.         0.         0.         0.         0.         0.\n",
      "  0.         0.         0.         0.        ]\n",
      " [0.         2.         1.84147098 0.54030231 0.         2.\n",
      "  0.72942554 1.75258256 1.84147098 0.54030231]\n",
      " [0.         0.72942554 0.65342268 0.13507558 0.         0.72942554\n",
      "  0.29234885 0.63889299 0.65342268 0.13507558]\n",
      " [0.         1.75258256 1.61386967 0.47415988 0.         1.75258256\n",
      "  0.63889299 1.53577615 1.61386967 0.47415988]\n",
      " [0.         1.84147098 1.70807342 0.54030231 0.         1.84147098\n",
      "  0.65342268 1.61386967 1.70807342 0.54030231]\n",
      " [0.         0.54030231 0.54030231 0.29192658 0.         0.54030231\n",
      "  0.13507558 0.47415988 0.54030231 0.29192658]]\n"
     ]
    }
   ],
   "source": [
    "matrices_A_t = []\n",
    "matrices_A_j = []\n",
    "N = 5\n",
    "length = np.array((A(1).T @ A(1))).shape[0]\n",
    "def check(N):\n",
    "    answ = np.zeros((length * (N ), length * (N )))\n",
    "    # Compute matrices_A_t and matrices_A_j\n",
    "    for i in range(N ):\n",
    "        A_ti = A(T/(N-1) * i).T\n",
    "        A_tj = A(T/(N-1) * i)\n",
    "        matrices_A_t.append(np.array(A_ti))\n",
    "        matrices_A_j.append(np.array(A_tj))\n",
    "    for i in range(N ):\n",
    "        for j in range(N):\n",
    "            answ[i*length:(i+1)*length, j*length:(j+1)*length] = np.dot(matrices_A_t[i], matrices_A_j[j])\n",
    "    determinant = np.linalg.det(answ)\n",
    "\n",
    "    print(\"Determinant:\", determinant)\n",
    "\n",
    "    print(answ)\n",
    "for i in range(2,N+1):\n",
    "    check(i)"
   ]
  },
  {
   "cell_type": "code",
   "execution_count": 52,
   "id": "aa7eb74e",
   "metadata": {},
   "outputs": [
    {
     "name": "stdout",
     "output_type": "stream",
     "text": [
      "ROWS: 2\n",
      "COLUMNS: 2\n",
      "Insert functions that depend on t or scalars as a row with length = 2: sin(t) 1-t**3\n",
      "You've inserted a row 1\n",
      "Insert functions that depend on t or scalars as a row with length = 2: t**2 cos(t)\n",
      "You've inserted a row 2\n",
      "B :  (len should = 2)5.322 5.067\n",
      "v :  (len should = 2)0 0\n"
     ]
    }
   ],
   "source": [
    "import sympy as sp\n",
    "\n",
    "\n",
    "\n",
    "\n",
    "# Define the symbolic variable\n",
    "t = sp.symbols('t')\n",
    "tau = sp.symbols('tau')  # Define the symbolic variable for integration\n",
    "\n",
    "# Function to create symbolic functions\n",
    "def create_function(expression):\n",
    "    return expression\n",
    "\n",
    "while True:\n",
    "    try:\n",
    "        rows = int(input(\"ROWS: \"))\n",
    "        break\n",
    "    except ValueError:\n",
    "        print(\"SHOULD BE INT\")\n",
    "\n",
    "while True:\n",
    "    try:\n",
    "        columns = int(input(\"COLUMNS: \"))\n",
    "        break\n",
    "    except ValueError:\n",
    "        print(\"SHOULD BE INT\")\n",
    "\n",
    "inp = []\n",
    "i = 0\n",
    "while i < rows:\n",
    "    data = input(f\"Insert functions that depend on t or scalars as a row with length = {columns}: \").split()\n",
    "    if len(data) != columns:\n",
    "        print(f\"ERROR: Row should have a length of {columns}.\")\n",
    "        continue\n",
    "\n",
    "    try:\n",
    "        tmp = [create_function(sp.sympify(expr)) for expr in data]\n",
    "        inp.append(tmp)\n",
    "        print(f\"You've inserted a row {i + 1}\")\n",
    "        i += 1\n",
    "    except sp.SympifyError:\n",
    "        print(\"ERROR: Insert valid functions or scalars.\")\n",
    "        continue\n",
    "\n",
    "# Define a symbolic matrix A\n",
    "A = sp.Matrix(inp)\n",
    "\n",
    "while True:\n",
    "    try:\n",
    "        data = input(\"B :  (len should = {})\".format(rows)).split()\n",
    "        if len(data) != rows:\n",
    "            raise ValueError\n",
    "        b = sp.Matrix([float(i) for i in data]).reshape(rows, 1)  # Make b a column vector\n",
    "        break\n",
    "    except ValueError:\n",
    "        print(\"B :  (len should = {})\".format(rows))\n",
    "\n",
    "while True:\n",
    "    try:\n",
    "        data = input(\"v :  (len should = {})\".format(columns)).split()\n",
    "        if len(data) != columns:\n",
    "            raise ValueError\n",
    "        v = sp.Matrix([create_function(sp.sympify(expr)) for expr in data]).reshape(columns, 1)  # Make v a column vector\n",
    "        break\n",
    "    except ValueError:\n",
    "        print(\"v :  (len should = {})\".format(columns))\n",
    "\n",
    "        print(\"v :  (len should = {})\".format(columns))\n",
    "\n",
    "\n",
    "\n",
    "P = sp.Matrix(P)\n",
    "\n",
    "Omega_xt = A.T @ P.inv() @ b + v - (A.T @ P.inv() @ Av).reshape(2,1)   # 1.43\n",
    "\n"
   ]
  },
  {
   "cell_type": "code",
   "execution_count": 53,
   "id": "a0a46bd5",
   "metadata": {},
   "outputs": [
    {
     "data": {
      "text/plain": [
       "<bound method DenseMatrix.as_immutable of Matrix([\n",
       "[                   -2.19857456155798*t**2 + 7.95741763765771*sin(t)],\n",
       "[-7.95741763765771*t**3 - 2.19857456155798*cos(t) + 7.95741763765771]])>"
      ]
     },
     "execution_count": 53,
     "metadata": {},
     "output_type": "execute_result"
    }
   ],
   "source": [
    "Omega_xt.as_immutable"
   ]
  },
  {
   "cell_type": "code",
   "execution_count": 58,
   "id": "2a6c38cc",
   "metadata": {},
   "outputs": [
    {
     "data": {
      "text/latex": [
       "$\\displaystyle \\left[\\begin{matrix}-2.19857456155798 + 7.95741763765771 \\sin{\\left(1 \\right)}\\\\- 2.19857456155798 \\cos{\\left(1 \\right)}\\end{matrix}\\right]$"
      ],
      "text/plain": [
       "Matrix([\n",
       "[-2.19857456155798 + 7.95741763765771*sin(1)],\n",
       "[                   -2.19857456155798*cos(1)]])"
      ]
     },
     "execution_count": 58,
     "metadata": {},
     "output_type": "execute_result"
    }
   ],
   "source": [
    "Omega_xt.subs(t,  1)"
   ]
  },
  {
   "cell_type": "code",
   "execution_count": 60,
   "id": "1b6cfae2",
   "metadata": {},
   "outputs": [
    {
     "data": {
      "text/plain": [
       "4.491194329222777"
      ]
     },
     "execution_count": 60,
     "metadata": {},
     "output_type": "execute_result"
    }
   ],
   "source": [
    "7.95 * np.sin(1) -2.1985"
   ]
  },
  {
   "cell_type": "code",
   "execution_count": 61,
   "id": "802735db",
   "metadata": {},
   "outputs": [
    {
     "data": {
      "text/plain": [
       "-1.1878546194511053"
      ]
     },
     "execution_count": 61,
     "metadata": {},
     "output_type": "execute_result"
    }
   ],
   "source": [
    "-2.1985 * np.cos(1)"
   ]
  },
  {
   "cell_type": "code",
   "execution_count": null,
   "id": "58f8ce5a",
   "metadata": {},
   "outputs": [],
   "source": []
  }
 ],
 "metadata": {
  "kernelspec": {
   "display_name": "Python 3 (ipykernel)",
   "language": "python",
   "name": "python3"
  },
  "language_info": {
   "codemirror_mode": {
    "name": "ipython",
    "version": 3
   },
   "file_extension": ".py",
   "mimetype": "text/x-python",
   "name": "python",
   "nbconvert_exporter": "python",
   "pygments_lexer": "ipython3",
   "version": "3.10.9"
  }
 },
 "nbformat": 4,
 "nbformat_minor": 5
}
