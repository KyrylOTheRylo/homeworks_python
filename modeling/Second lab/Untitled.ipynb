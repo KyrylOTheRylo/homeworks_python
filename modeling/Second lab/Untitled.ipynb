{
 "cells": [
  {
   "cell_type": "code",
   "execution_count": 1,
   "id": "17eefb39",
   "metadata": {},
   "outputs": [],
   "source": [
    "import scipy as sp\n",
    "import numpy as np\n",
    "import sympy as smp"
   ]
  },
  {
   "cell_type": "code",
   "execution_count": 22,
   "id": "b9c84ec0",
   "metadata": {},
   "outputs": [],
   "source": [
    "import math\n",
    "def create_function(expression):\n",
    "    t = smp.symbols('t')\n",
    "    func = smp.lambdify(t, expression, 'numpy')\n",
    "    return func\n",
    "\n"
   ]
  },
  {
   "cell_type": "code",
   "execution_count": 28,
   "id": "43e11341",
   "metadata": {},
   "outputs": [
    {
     "name": "stdout",
     "output_type": "stream",
     "text": [
      "ROWS a\n",
      "SHOULD BE INT \n",
      "ROWS A\n",
      "SHOULD BE INT \n",
      "ROWS A\n",
      "SHOULD BE INT \n",
      "ROWS a\n",
      "SHOULD BE INT \n",
      "ROWS a\n",
      "SHOULD BE INT \n",
      "ROWS a\n",
      "SHOULD BE INT \n",
      "ROWS a\n",
      "SHOULD BE INT \n",
      "ROWS 2\n",
      "COLUMNS 2\n"
     ]
    }
   ],
   "source": [
    "\n",
    "while True:\n",
    "    try:\n",
    "        rows =  int(input(\"ROWS: \"))\n",
    "        break\n",
    "    except Exception:\n",
    "        print(\"SHOULD BE INT \")\n",
    "while True:\n",
    "    try:        \n",
    "        columns =int(input(\"COLUMNS: \"))\n",
    "        break\n",
    "    except Exception:\n",
    "        print(\"SHOULD BE INT \")\n",
    "\n",
    "A_key = np.zeros((rows, columns))"
   ]
  },
  {
   "cell_type": "code",
   "execution_count": 29,
   "id": "973167b8",
   "metadata": {},
   "outputs": [
    {
     "data": {
      "text/plain": [
       "array([[0., 0.],\n",
       "       [0., 0.]])"
      ]
     },
     "execution_count": 29,
     "metadata": {},
     "output_type": "execute_result"
    }
   ],
   "source": [
    "A_key\n"
   ]
  },
  {
   "cell_type": "code",
   "execution_count": 19,
   "id": "fd005693",
   "metadata": {},
   "outputs": [],
   "source": [
    "A = lambda t:np.array([[t*50-1.23, np.sin(t)+2], [(t*2)**2 + np.pi, np.cos(t)], [np.exp(t), np.cos(t)**2]])\n",
    "b = np.array([1.4, -2.12, 3])\n",
    "v = lambda t: np.array([t*5-3, np.log(t)]) "
   ]
  },
  {
   "cell_type": "code",
   "execution_count": 20,
   "id": "4c324d04",
   "metadata": {},
   "outputs": [],
   "source": [
    "T =3"
   ]
  },
  {
   "cell_type": "code",
   "execution_count": 21,
   "id": "d508856d",
   "metadata": {},
   "outputs": [
    {
     "data": {
      "text/plain": [
       "array([-1.23,  2.  ])"
      ]
     },
     "execution_count": 21,
     "metadata": {},
     "output_type": "execute_result"
    }
   ],
   "source": [
    "A(0)[0]"
   ]
  },
  {
   "cell_type": "code",
   "execution_count": 191,
   "id": "49fc07ba",
   "metadata": {},
   "outputs": [],
   "source": [
    "from scipy.integrate import quad_vec\n",
    "\n",
    "P = quad_vec(lambda tau: A(tau) @ A(tau).T, 0, T )[0]"
   ]
  },
  {
   "cell_type": "code",
   "execution_count": 192,
   "id": "f866ef23",
   "metadata": {},
   "outputs": [
    {
     "data": {
      "text/plain": [
       "array([1.28405566, 0.37183584])"
      ]
     },
     "execution_count": 192,
     "metadata": {},
     "output_type": "execute_result"
    }
   ],
   "source": [
    "\n",
    "x_hat= lambda tau: A(tau).T @ np.linalg.pinv(P) @ b\n",
    "x_hat(3)#1.45"
   ]
  },
  {
   "cell_type": "code",
   "execution_count": 193,
   "id": "503b729c",
   "metadata": {},
   "outputs": [],
   "source": [
    "Av = quad_vec(lambda tau: A(tau) @ v(tau).T, 0, T )[0]\n"
   ]
  },
  {
   "cell_type": "code",
   "execution_count": 194,
   "id": "3100d2e7",
   "metadata": {},
   "outputs": [],
   "source": [
    "Omega_xt =  lambda t : A(t).T @ np.linalg.pinv(P) @b + v(t) - A(t).T @ np.linalg.pinv(P) @ Av # 1.43"
   ]
  },
  {
   "cell_type": "code",
   "execution_count": 195,
   "id": "81d9e96d",
   "metadata": {},
   "outputs": [
    {
     "data": {
      "text/plain": [
       "array([1.45955472, 0.17133515])"
      ]
     },
     "execution_count": 195,
     "metadata": {},
     "output_type": "execute_result"
    }
   ],
   "source": [
    "Omega_xt(3) "
   ]
  },
  {
   "cell_type": "code",
   "execution_count": 196,
   "id": "e4c61ef4",
   "metadata": {},
   "outputs": [
    {
     "data": {
      "text/plain": [
       "2.327027459614328e-13"
      ]
     },
     "execution_count": 196,
     "metadata": {},
     "output_type": "execute_result"
    }
   ],
   "source": [
    "eps_sq = b.T @ b - b.T @ P @ np.linalg.pinv(P) @ b\n",
    "eps_sq"
   ]
  },
  {
   "cell_type": "code",
   "execution_count": 197,
   "id": "7ebcb496",
   "metadata": {},
   "outputs": [
    {
     "data": {
      "text/plain": [
       "array([ 1.4 , -2.12,  3.  ])"
      ]
     },
     "execution_count": 197,
     "metadata": {},
     "output_type": "execute_result"
    }
   ],
   "source": [
    "check1 = quad_vec(lambda tau: A(tau) @ Omega_xt(tau),0, 3)[0]\n",
    "check1"
   ]
  },
  {
   "cell_type": "code",
   "execution_count": 198,
   "id": "a2b03057",
   "metadata": {},
   "outputs": [
    {
     "data": {
      "text/plain": [
       "array([ 1.4 , -2.12,  3.  ])"
      ]
     },
     "execution_count": 198,
     "metadata": {},
     "output_type": "execute_result"
    }
   ],
   "source": [
    "check2 = quad_vec(lambda tau: A(tau) @ x_hat(tau),0, 3)[0]\n",
    "check2"
   ]
  },
  {
   "cell_type": "code",
   "execution_count": 199,
   "id": "2a41842a",
   "metadata": {},
   "outputs": [
    {
     "name": "stdout",
     "output_type": "stream",
     "text": [
      "Determinant: 4.2151029686080705e-10\n",
      "[[ 1.23825044e+01  1.68159265e+00 -1.45963375e+02 -4.76364562e+00]\n",
      " [ 1.68159265e+00  6.00000000e+00  3.23017130e+02  4.27233266e+00]\n",
      " [-1.45963375e+02  3.23017130e+02  2.25650110e+04  3.32882324e+02]\n",
      " [-4.76364562e+00  4.27233266e+00  3.32882324e+02  6.52504692e+00]]\n",
      "Determinant: 0.0\n",
      "[[ 1.23825044e+01  1.68159265e+00 -1.45963375e+02 -4.76364562e+00\n",
      "   1.23825044e+01  1.68159265e+00]\n",
      " [ 1.68159265e+00  6.00000000e+00  3.23017130e+02  4.27233266e+00\n",
      "   1.68159265e+00  6.00000000e+00]\n",
      " [-1.45963375e+02  3.23017130e+02  2.25650110e+04  3.32882324e+02\n",
      "  -1.45963375e+02  3.23017130e+02]\n",
      " [-4.76364562e+00  4.27233266e+00  3.32882324e+02  6.52504692e+00\n",
      "  -4.76364562e+00  4.27233266e+00]\n",
      " [ 1.23825044e+01  1.68159265e+00 -1.45963375e+02 -4.76364562e+00\n",
      "   1.23825044e+01  1.68159265e+00]\n",
      " [ 1.68159265e+00  6.00000000e+00  3.23017130e+02  4.27233266e+00\n",
      "   1.68159265e+00  6.00000000e+00]]\n",
      "Determinant: 0.0\n",
      "[[ 1.23825044e+01  1.68159265e+00 -1.45963375e+02 -4.76364562e+00\n",
      "   1.23825044e+01  1.68159265e+00 -7.46186607e+01 -3.45968761e+00]\n",
      " [ 1.68159265e+00  6.00000000e+00  3.23017130e+02  4.27233266e+00\n",
      "   1.68159265e+00  6.00000000e+00  1.55725782e+02  6.07073093e+00]\n",
      " [-1.45963375e+02  3.23017130e+02  2.25650110e+04  3.32882324e+02\n",
      "  -1.45963375e+02  3.23017130e+02  1.10847510e+04  4.46419218e+02]\n",
      " [-4.76364562e+00  4.27233266e+00  3.32882324e+02  6.52504692e+00\n",
      "  -4.76364562e+00  4.27233266e+00  1.58675836e+02  6.35287129e+00]\n",
      " [ 1.23825044e+01  1.68159265e+00 -1.45963375e+02 -4.76364562e+00\n",
      "   1.23825044e+01  1.68159265e+00 -7.46186607e+01 -3.45968761e+00]\n",
      " [ 1.68159265e+00  6.00000000e+00  3.23017130e+02  4.27233266e+00\n",
      "   1.68159265e+00  6.00000000e+00  1.55725782e+02  6.07073093e+00]\n",
      " [-7.46186607e+01  1.55725782e+02  1.10847510e+04  1.58675836e+02\n",
      "  -7.46186607e+01  1.55725782e+02  5.47581874e+03  2.21409648e+02]\n",
      " [-3.45968761e+00  6.07073093e+00  4.46419218e+02  6.35287129e+00\n",
      "  -3.45968761e+00  6.07073093e+00  2.21409648e+02  8.99000498e+00]]\n"
     ]
    }
   ],
   "source": [
    "matrices_A_t = []\n",
    "matrices_A_j = []\n",
    "N = 4\n",
    "length = np.array((A(1).T @ A(1))).shape[0]\n",
    "def check(N):\n",
    "    answ = np.zeros((length * (N ), length * (N )))\n",
    "    # Compute matrices_A_t and matrices_A_j\n",
    "    for i in range(N ):\n",
    "        A_ti = A(T/(N-1) * i).T\n",
    "        A_tj = A(T/(N-1) * i)\n",
    "        matrices_A_t.append(np.array(A_ti))\n",
    "        matrices_A_j.append(np.array(A_tj))\n",
    "    for i in range(N ):\n",
    "        for j in range(N):\n",
    "            answ[i*length:(i+1)*length, j*length:(j+1)*length] = np.dot(matrices_A_t[i], matrices_A_j[j])\n",
    "    determinant = np.linalg.det(answ)\n",
    "\n",
    "    print(\"Determinant:\", determinant)\n",
    "\n",
    "    print(answ)\n",
    "for i in range(2,N+1):\n",
    "    check(i)"
   ]
  },
  {
   "cell_type": "code",
   "execution_count": null,
   "id": "aa7eb74e",
   "metadata": {},
   "outputs": [],
   "source": [
    "\n",
    "\n",
    "\n",
    "\n",
    "\n",
    "\n"
   ]
  },
  {
   "cell_type": "code",
   "execution_count": null,
   "id": "a0a46bd5",
   "metadata": {},
   "outputs": [],
   "source": []
  },
  {
   "cell_type": "code",
   "execution_count": null,
   "id": "2a6c38cc",
   "metadata": {},
   "outputs": [],
   "source": []
  }
 ],
 "metadata": {
  "kernelspec": {
   "display_name": "Python 3 (ipykernel)",
   "language": "python",
   "name": "python3"
  },
  "language_info": {
   "codemirror_mode": {
    "name": "ipython",
    "version": 3
   },
   "file_extension": ".py",
   "mimetype": "text/x-python",
   "name": "python",
   "nbconvert_exporter": "python",
   "pygments_lexer": "ipython3",
   "version": "3.11.4"
  }
 },
 "nbformat": 4,
 "nbformat_minor": 5
}
