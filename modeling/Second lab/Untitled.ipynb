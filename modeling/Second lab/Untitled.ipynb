{
 "cells": [
  {
   "cell_type": "code",
   "execution_count": 1,
   "id": "17eefb39",
   "metadata": {},
   "outputs": [],
   "source": [
    "import scipy as sp\n",
    "import numpy as np\n",
    "import sympy as smp"
   ]
  },
  {
   "cell_type": "code",
   "execution_count": 2,
   "id": "ce55f471",
   "metadata": {},
   "outputs": [],
   "source": [
    "import math\n",
    "def create_function(expression):\n",
    "    t = smp.symbols('t')\n",
    "    func = smp.lambdify(t, expression, 'numpy')\n",
    "    return func\n",
    "\n"
   ]
  },
  {
   "cell_type": "code",
   "execution_count": 12,
   "id": "26b5a293",
   "metadata": {},
   "outputs": [
    {
     "name": "stdout",
     "output_type": "stream",
     "text": [
      "ROWS: 3\n",
      "COLUMNS: 2\n",
      "Insert functions that depend on t or scalars as a row with length = 2: cos(t) sin(t)\n",
      "You've inserted a row 1\n",
      "Insert functions that depend on t or scalars as a row with length = 2: sin(t*34) cos(t)+2\n",
      "You've inserted a row 2\n",
      "Insert functions that depend on t or scalars as a row with length = 2: exp(t) t**3\n",
      "You've inserted a row 3\n"
     ]
    }
   ],
   "source": [
    "\n",
    "while True:\n",
    "    try:\n",
    "        rows =  int(input(\"ROWS: \"))\n",
    "        break\n",
    "    except Exception:\n",
    "        print(\"SHOULD BE INT \")\n",
    "while True:\n",
    "    try:        \n",
    "        columns =int(input(\"COLUMNS: \"))\n",
    "        break\n",
    "    except Exception:\n",
    "        print(\"SHOULD BE INT \")  \n",
    "inp = []\n",
    "i = 0\n",
    "while i < rows:\n",
    "    \n",
    "    data = input(f\"Insert functions that depend on t or scalars as a row with length = {columns}: \").split()\n",
    "    if len(data) != columns:\n",
    "        print(f\"ERROR: Row should have a length of {columns}.\")\n",
    "        continue\n",
    "\n",
    "    try:\n",
    "        tmp = lambda t, data=data: np.array([create_function(smp.sympify(expr))(t) for expr in data])\n",
    "        inp.append(tmp)\n",
    "        print(f\"You've inserted a row {i + 1}\")\n",
    "        i += 1\n",
    "    except smp.SympifyError:\n",
    "        print(\"ERROR: Insert valid functions or scalars.\")\n",
    "        continue\n",
    "            \n",
    "A = lambda t: np.array([i(t) for i in inp])\n",
    "\n"
   ]
  },
  {
   "cell_type": "code",
   "execution_count": 13,
   "id": "8fab4e9d",
   "metadata": {},
   "outputs": [
    {
     "name": "stdout",
     "output_type": "stream",
     "text": [
      "B :  (len should = 3)2 2 2\n"
     ]
    },
    {
     "data": {
      "text/plain": [
       "array([2., 2., 2.])"
      ]
     },
     "execution_count": 13,
     "metadata": {},
     "output_type": "execute_result"
    }
   ],
   "source": [
    "while True:\n",
    "    try:        \n",
    "        data =input(\"B :  (len should = {})\".format(rows)).split()\n",
    "        if len(data) != rows:\n",
    "            raise ValueError\n",
    "        b = np.array([float(i) for i in data ])\n",
    "        break\n",
    "    except Exception:\n",
    "        print(\"B :  (len should = {})\".format(rows))  \n",
    "b"
   ]
  },
  {
   "cell_type": "code",
   "execution_count": 14,
   "id": "9c9ea5ff",
   "metadata": {},
   "outputs": [
    {
     "name": "stdout",
     "output_type": "stream",
     "text": [
      "v :  (len should = 2)sin(t) cos(t)\n"
     ]
    },
    {
     "data": {
      "text/plain": [
       "array([0.84147098, 0.54030231])"
      ]
     },
     "execution_count": 14,
     "metadata": {},
     "output_type": "execute_result"
    }
   ],
   "source": [
    "while True:\n",
    "    try:        \n",
    "        data =input(\"v :  (len should = {})\".format(columns)).split()\n",
    "        if len(data) != columns:\n",
    "            raise ValueError\n",
    "        v = lambda t, data=data: np.array([create_function(smp.sympify(expr))(t) for expr in data]) \n",
    "        break\n",
    "    except Exception:\n",
    "        print(\"v :  (len should = {})\".format(columns))  \n",
    "v(1)        "
   ]
  },
  {
   "cell_type": "code",
   "execution_count": 15,
   "id": "fd005693",
   "metadata": {},
   "outputs": [],
   "source": [
    "#A = lambda t:np.array([[t*50-1.23, np.sin(t)+2], [(t*2)**2 + np.pi, np.cos(t)], [np.exp(t), np.cos(t)**2]])\n",
    "#b = np.array([1.4, -2.12, 3])\n",
    "#v = lambda t: np.array([t*5-3, np.log(t)]) "
   ]
  },
  {
   "cell_type": "code",
   "execution_count": 16,
   "id": "4c324d04",
   "metadata": {},
   "outputs": [],
   "source": [
    "T =3"
   ]
  },
  {
   "cell_type": "code",
   "execution_count": 17,
   "id": "771cf980",
   "metadata": {},
   "outputs": [
    {
     "data": {
      "text/plain": [
       "array([1., 0.])"
      ]
     },
     "execution_count": 17,
     "metadata": {},
     "output_type": "execute_result"
    }
   ],
   "source": [
    "A(0)[0]"
   ]
  },
  {
   "cell_type": "code",
   "execution_count": 18,
   "id": "49fc07ba",
   "metadata": {},
   "outputs": [],
   "source": [
    "from scipy.integrate import quad_vec\n",
    "\n",
    "P = quad_vec(lambda tau: A(tau) @ A(tau).T, 0, T )[0]"
   ]
  },
  {
   "cell_type": "code",
   "execution_count": 19,
   "id": "f866ef23",
   "metadata": {},
   "outputs": [
    {
     "data": {
      "text/plain": [
       "array([-0.75964271,  0.12943458])"
      ]
     },
     "execution_count": 19,
     "metadata": {},
     "output_type": "execute_result"
    }
   ],
   "source": [
    "\n",
    "x_hat= lambda tau: A(tau).T @ np.linalg.pinv(P) @ b\n",
    "x_hat(3)#1.45"
   ]
  },
  {
   "cell_type": "code",
   "execution_count": 20,
   "id": "503b729c",
   "metadata": {},
   "outputs": [],
   "source": [
    "Av = quad_vec(lambda tau: A(tau) @ v(tau).T, 0, T )[0]\n"
   ]
  },
  {
   "cell_type": "code",
   "execution_count": 21,
   "id": "3100d2e7",
   "metadata": {},
   "outputs": [],
   "source": [
    "Omega_xt =  lambda t : A(t).T @ np.linalg.pinv(P) @b + v(t) - A(t).T @ np.linalg.pinv(P) @ Av # 1.43"
   ]
  },
  {
   "cell_type": "code",
   "execution_count": 22,
   "id": "81d9e96d",
   "metadata": {},
   "outputs": [
    {
     "data": {
      "text/plain": [
       "array([-0.80922753, -0.69611285])"
      ]
     },
     "execution_count": 22,
     "metadata": {},
     "output_type": "execute_result"
    }
   ],
   "source": [
    "Omega_xt(3) "
   ]
  },
  {
   "cell_type": "code",
   "execution_count": 23,
   "id": "e4c61ef4",
   "metadata": {},
   "outputs": [
    {
     "data": {
      "text/plain": [
       "3.552713678800501e-14"
      ]
     },
     "execution_count": 23,
     "metadata": {},
     "output_type": "execute_result"
    }
   ],
   "source": [
    "eps_sq = b.T @ b - b.T @ P @ np.linalg.pinv(P) @ b\n",
    "eps_sq"
   ]
  },
  {
   "cell_type": "code",
   "execution_count": 24,
   "id": "7ebcb496",
   "metadata": {},
   "outputs": [
    {
     "data": {
      "text/plain": [
       "array([2., 2., 2.])"
      ]
     },
     "execution_count": 24,
     "metadata": {},
     "output_type": "execute_result"
    }
   ],
   "source": [
    "check1 = quad_vec(lambda tau: A(tau) @ Omega_xt(tau),0, 3)[0]\n",
    "check1"
   ]
  },
  {
   "cell_type": "code",
   "execution_count": 25,
   "id": "a2b03057",
   "metadata": {},
   "outputs": [
    {
     "data": {
      "text/plain": [
       "array([2., 2., 2.])"
      ]
     },
     "execution_count": 25,
     "metadata": {},
     "output_type": "execute_result"
    }
   ],
   "source": [
    "check2 = quad_vec(lambda tau: A(tau) @ x_hat(tau),0, 3)[0]\n",
    "check2"
   ]
  },
  {
   "cell_type": "code",
   "execution_count": 26,
   "id": "2a41842a",
   "metadata": {},
   "outputs": [
    {
     "name": "stdout",
     "output_type": "stream",
     "text": [
      "Determinant: 7.570628678627699e-10\n",
      "[[  2.           0.          19.09554443  27.14112001]\n",
      " [  0.           9.           2.98448037   3.03002251]\n",
      " [ 19.09554443   2.98448037 405.39855898 543.1745717 ]\n",
      " [ 27.14112001   3.03002251 543.1745717  730.04003001]]\n",
      "Determinant: 0.0\n",
      "[[  2.           0.          19.09554443  27.14112001   2.\n",
      "    0.        ]\n",
      " [  0.           9.           2.98448037   3.03002251   0.\n",
      "    9.        ]\n",
      " [ 19.09554443   2.98448037 405.39855898 543.1745717   19.09554443\n",
      "    2.98448037]\n",
      " [ 27.14112001   3.03002251 543.1745717  730.04003001  27.14112001\n",
      "    3.03002251]\n",
      " [  2.           0.          19.09554443  27.14112001   2.\n",
      "    0.        ]\n",
      " [  0.           9.           2.98448037   3.03002251   0.\n",
      "    9.        ]]\n",
      "Determinant: 0.0\n",
      "[[  2.           0.          19.09554443  27.14112001   2.\n",
      "    0.           4.55242627   4.37249499]\n",
      " [  0.           9.           2.98448037   3.03002251   0.\n",
      "    9.           2.01068753   6.21221161]\n",
      " [ 19.09554443   2.98448037 405.39855898 543.1745717   19.09554443\n",
      "    2.98448037  90.61386394  68.86119941]\n",
      " [ 27.14112001   3.03002251 543.1745717  730.04003001  27.14112001\n",
      "    3.03002251 121.69252383  93.35722661]\n",
      " [  2.           0.          19.09554443  27.14112001   2.\n",
      "    0.           4.55242627   4.37249499]\n",
      " [  0.           9.           2.98448037   3.03002251   0.\n",
      "    9.           2.01068753   6.21221161]\n",
      " [  4.55242627   2.01068753  90.61386394 121.69252383   4.55242627\n",
      "    2.01068753  20.53974782  16.5841291 ]\n",
      " [  4.37249499   6.21221161  68.86119941  93.35722661   4.37249499\n",
      "    6.21221161  16.5841291   16.67357381]]\n"
     ]
    }
   ],
   "source": [
    "matrices_A_t = []\n",
    "matrices_A_j = []\n",
    "N = 4\n",
    "length = np.array((A(1).T @ A(1))).shape[0]\n",
    "def check(N):\n",
    "    answ = np.zeros((length * (N ), length * (N )))\n",
    "    # Compute matrices_A_t and matrices_A_j\n",
    "    for i in range(N ):\n",
    "        A_ti = A(T/(N-1) * i).T\n",
    "        A_tj = A(T/(N-1) * i)\n",
    "        matrices_A_t.append(np.array(A_ti))\n",
    "        matrices_A_j.append(np.array(A_tj))\n",
    "    for i in range(N ):\n",
    "        for j in range(N):\n",
    "            answ[i*length:(i+1)*length, j*length:(j+1)*length] = np.dot(matrices_A_t[i], matrices_A_j[j])\n",
    "    determinant = np.linalg.det(answ)\n",
    "\n",
    "    print(\"Determinant:\", determinant)\n",
    "\n",
    "    print(answ)\n",
    "for i in range(2,N+1):\n",
    "    check(i)"
   ]
  },
  {
   "cell_type": "code",
   "execution_count": null,
   "id": "aa7eb74e",
   "metadata": {},
   "outputs": [],
   "source": [
    "\n",
    "\n",
    "\n",
    "\n",
    "\n",
    "\n"
   ]
  },
  {
   "cell_type": "code",
   "execution_count": null,
   "id": "a0a46bd5",
   "metadata": {},
   "outputs": [],
   "source": []
  },
  {
   "cell_type": "code",
   "execution_count": null,
   "id": "2a6c38cc",
   "metadata": {},
   "outputs": [],
   "source": []
  }
 ],
 "metadata": {
  "kernelspec": {
   "display_name": "Python 3 (ipykernel)",
   "language": "python",
   "name": "python3"
  },
  "language_info": {
   "codemirror_mode": {
    "name": "ipython",
    "version": 3
   },
   "file_extension": ".py",
   "mimetype": "text/x-python",
   "name": "python",
   "nbconvert_exporter": "python",
   "pygments_lexer": "ipython3",
   "version": "3.11.4"
  }
 },
 "nbformat": 4,
 "nbformat_minor": 5
}
