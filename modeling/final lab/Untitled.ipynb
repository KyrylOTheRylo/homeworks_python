{
 "cells": [
  {
   "cell_type": "code",
   "execution_count": 2,
   "id": "0b827339",
   "metadata": {},
   "outputs": [],
   "source": [
    "# Mathematical Modelling Lab Work - Group 1 Template\n",
    "## Import Required Libraries\n",
    "import numpy as np\n",
    "import matplotlib.pyplot as plt\n",
    "from mpl_toolkits.mplot3d import Axes3D\n",
    "import ipywidgets as widgets\n",
    "from IPython.display import display\n",
    "import sympy as sp\n"
   ]
  },
  {
   "cell_type": "code",
   "execution_count": 51,
   "id": "8a708c8f",
   "metadata": {},
   "outputs": [],
   "source": [
    "# Define your function using sympy\n",
    "x1, x2, t = sp.symbols('x1 x2 t')\n",
    "f = (x1**2 + x2**2) * 1 / (t + 0.5)\n"
   ]
  },
  {
   "cell_type": "code",
   "execution_count": 52,
   "id": "a3ed2b06",
   "metadata": {},
   "outputs": [
    {
     "data": {
      "application/vnd.jupyter.widget-view+json": {
       "model_id": "2bf5cdb0bad6471eb983918a72531e69",
       "version_major": 2,
       "version_minor": 0
      },
      "text/plain": [
       "interactive(children=(FloatSlider(value=0.5, continuous_update=False, description='t value:', max=10.0), Outpu…"
      ]
     },
     "execution_count": 52,
     "metadata": {},
     "output_type": "execute_result"
    }
   ],
   "source": [
    "\n",
    "\n",
    "\n",
    "def f_numeric(x_val, y_val, t_val,f):\n",
    "    return sp.lambdify((x1, x2, t), f, 'numpy')(x_val, y_val, t_val)\n",
    "\n",
    "\n",
    "def interactive_plot(t_val):\n",
    "    X1, X2 = np.meshgrid(np.linspace(-5, 5, 100), np.linspace(-5, 5, 100))\n",
    "    Z = f_numeric(X1, X2, t_val,f)\n",
    "\n",
    "    fig = plt.figure(figsize=(10, 8))\n",
    "    ax = fig.add_subplot(111, projection='3d')\n",
    "    surf = ax.plot_surface(X1,X2, Z, cmap='viridis')\n",
    "\n",
    "    fig.colorbar(surf, ax=ax, shrink=0.5, aspect=5)\n",
    "    ax.set_xlabel('X1 axis')\n",
    "    ax.set_ylabel('X2 axis')\n",
    "    ax.set_zlabel('Function values')\n",
    "    ax.set_title('3D Surface plot with Heat Map for function f(x1, x2, t)')\n",
    "\n",
    "    plt.show()\n",
    "\n",
    "t_slider = widgets.FloatSlider(\n",
    "    value=0.5,\n",
    "    min=0,\n",
    "    max=10,\n",
    "    step=0.1,\n",
    "    description='t value:',\n",
    "    continuous_update=False\n",
    ")\n",
    "\n",
    "widgets.interactive(interactive_plot, t_val=t_slider)"
   ]
  },
  {
   "cell_type": "code",
   "execution_count": 54,
   "id": "c603f68e",
   "metadata": {},
   "outputs": [
    {
     "data": {
      "text/latex": [
       "$\\displaystyle - \\frac{8 \\cdot \\left(\\frac{2 x_{1}^{2}}{t + 1} + 1\\right) e^{\\frac{x_{1}^{2} + x_{2}^{2}}{t + 1}}}{t + 1} - \\frac{8 \\cdot \\left(\\frac{2 x_{2}^{2}}{t + 1} + 1\\right) e^{\\frac{x_{1}^{2} + x_{2}^{2}}{t + 1}}}{t + 1} - \\frac{\\left(x_{1}^{2} + x_{2}^{2}\\right) e^{\\frac{x_{1}^{2} + x_{2}^{2}}{t + 1}}}{\\left(t + 1\\right)^{2}}$"
      ],
      "text/plain": [
       "-8*(2*x1**2/(t + 1) + 1)*exp((x1**2 + x2**2)/(t + 1))/(t + 1) - 8*(2*x2**2/(t + 1) + 1)*exp((x1**2 + x2**2)/(t + 1))/(t + 1) - (x1**2 + x2**2)*exp((x1**2 + x2**2)/(t + 1))/(t + 1)**2"
      ]
     },
     "execution_count": 54,
     "metadata": {},
     "output_type": "execute_result"
    }
   ],
   "source": [
    "u = sp.Function('u')(t, x1, x2)  # u is a function of t, x1, and x2\n",
    "k = 4\n",
    "# implementing linear operator \n",
    "diff_operator = sp.Derivative(u, t) - k * (sp.Derivative(u, x1, x1) + sp.Derivative(u, x2, x2))\n",
    "\n",
    "# Display the operator\n",
    "diff_operator.subs(u,f).doit()"
   ]
  },
  {
   "cell_type": "code",
   "execution_count": null,
   "id": "a7c874eb",
   "metadata": {},
   "outputs": [],
   "source": []
  }
 ],
 "metadata": {
  "kernelspec": {
   "display_name": "Python 3 (ipykernel)",
   "language": "python",
   "name": "python3"
  },
  "language_info": {
   "codemirror_mode": {
    "name": "ipython",
    "version": 3
   },
   "file_extension": ".py",
   "mimetype": "text/x-python",
   "name": "python",
   "nbconvert_exporter": "python",
   "pygments_lexer": "ipython3",
   "version": "3.11.4"
  }
 },
 "nbformat": 4,
 "nbformat_minor": 5
}
