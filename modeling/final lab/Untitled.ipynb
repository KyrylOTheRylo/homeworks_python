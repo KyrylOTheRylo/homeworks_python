{
 "cells": [
  {
   "cell_type": "code",
   "execution_count": 2,
   "id": "ecd6e154",
   "metadata": {},
   "outputs": [],
   "source": [
    "# Mathematical Modelling Lab Work - Group 1 Template\n",
    "## Import Required Libraries\n",
    "import numpy as np\n",
    "import matplotlib.pyplot as plt\n",
    "from mpl_toolkits.mplot3d import Axes3D\n",
    "import ipywidgets as widgets\n",
    "from IPython.display import display\n",
    "import sympy as sp\n"
   ]
  },
  {
   "cell_type": "code",
   "execution_count": 15,
   "id": "439d6f96",
   "metadata": {},
   "outputs": [],
   "source": [
    "# Define your function using sympy\n",
    "x, y, t = sp.symbols('x y t')\n",
    "f = (x**2 + y**2) * 1 / (t + 0.5)\n"
   ]
  },
  {
   "cell_type": "code",
   "execution_count": 16,
   "id": "fae69ba1",
   "metadata": {},
   "outputs": [
    {
     "data": {
      "application/vnd.jupyter.widget-view+json": {
       "model_id": "4e5409e26d99424480f185d401269631",
       "version_major": 2,
       "version_minor": 0
      },
      "text/plain": [
       "interactive(children=(FloatSlider(value=0.5, continuous_update=False, description='t value:', max=10.0), Outpu…"
      ]
     },
     "execution_count": 16,
     "metadata": {},
     "output_type": "execute_result"
    }
   ],
   "source": [
    "\n",
    "\n",
    "\n",
    "def f_numeric(x_val, y_val, t_val):\n",
    "    return sp.lambdify((x, y, t), f, 'numpy')(x_val, y_val, t_val)\n",
    "\n",
    "\n",
    "def interactive_plot(t_val):\n",
    "    X, Y = np.meshgrid(np.linspace(-5, 5, 100), np.linspace(-5, 5, 100))\n",
    "    Z = f_numeric(X, Y, t_val)\n",
    "\n",
    "    fig = plt.figure(figsize=(10, 8))\n",
    "    ax = fig.add_subplot(111, projection='3d')\n",
    "    surf = ax.plot_surface(X, Y, Z, cmap='viridis')\n",
    "    \n",
    "    fig.colorbar(surf, ax=ax, shrink=0.5, aspect=5)\n",
    "    ax.set_xlabel('X axis')\n",
    "    ax.set_ylabel('Y axis')\n",
    "    ax.set_zlabel('Function values')\n",
    "    ax.set_title('3D Surface plot with Heat Map for function f(x, y, t)')\n",
    "\n",
    "    plt.show()\n",
    "\n",
    "t_slider = widgets.FloatSlider(\n",
    "    value=0.5,\n",
    "    min=0,\n",
    "    max=10,\n",
    "    step=0.1,\n",
    "    description='t value:',\n",
    "    continuous_update=False\n",
    ")\n",
    "\n",
    "widgets.interactive(interactive_plot, t_val=t_slider)"
   ]
  },
  {
   "cell_type": "code",
   "execution_count": null,
   "id": "afba5d71",
   "metadata": {},
   "outputs": [],
   "source": []
  },
  {
   "cell_type": "code",
   "execution_count": null,
   "id": "f3273540",
   "metadata": {},
   "outputs": [],
   "source": []
  }
 ],
 "metadata": {
  "kernelspec": {
   "display_name": "Python 3 (ipykernel)",
   "language": "python",
   "name": "python3"
  },
  "language_info": {
   "codemirror_mode": {
    "name": "ipython",
    "version": 3
   },
   "file_extension": ".py",
   "mimetype": "text/x-python",
   "name": "python",
   "nbconvert_exporter": "python",
   "pygments_lexer": "ipython3",
   "version": "3.11.4"
  }
 },
 "nbformat": 4,
 "nbformat_minor": 5
}
