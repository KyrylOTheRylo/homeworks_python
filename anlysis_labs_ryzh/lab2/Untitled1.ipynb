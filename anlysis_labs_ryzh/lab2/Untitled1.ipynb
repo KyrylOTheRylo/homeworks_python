{
 "cells": [
  {
   "cell_type": "code",
   "execution_count": 4,
   "id": "b173288c",
   "metadata": {},
   "outputs": [
    {
     "data": {
      "text/plain": [
       "(0.0, -5.713284232087328)"
      ]
     },
     "execution_count": 4,
     "metadata": {},
     "output_type": "execute_result"
    }
   ],
   "source": [
    "import numpy as np\n",
    "import scipy.sparse as sp\n",
    "import scipy.sparse.linalg\n",
    "\n",
    "# Given functions\n",
    "def q(x):\n",
    "    return 2 * np.cos(x)\n",
    "\n",
    "def k(x):\n",
    "    return 2 * np.sin(2 * x)\n",
    "\n",
    "# Domain and discretization\n",
    "n = 41\n",
    "A, B = 0, 1  # Domain\n",
    "x_j = np.linspace(A, B, n)\n",
    "h = x_j[1] - x_j[0]  # Assuming uniform spacing\n",
    "\n",
    "# Real function (for calculating mu1 and mu2)\n",
    "real = lambda x: np.sin(np.pi * x)\n",
    "\n",
    "# Boundary condition parameters\n",
    "alpha1 = 1\n",
    "alpha2 = 1\n",
    "\n",
    "# Calculate mu1 and mu2 using the boundary conditions and the real solution\n",
    "def derivative_of_real(x):\n",
    "    # Derivative of the real solution\n",
    "    return np.pi * np.cos(np.pi * x)\n",
    "\n",
    "mu1 = -k(A) * derivative_of_real(A) + alpha1 * real(A)\n",
    "mu2 = k(B) * derivative_of_real(B) + alpha2 * real(B)\n",
    "\n",
    "mu1, mu2"
   ]
  },
  {
   "cell_type": "code",
   "execution_count": 5,
   "id": "b7e1a477",
   "metadata": {},
   "outputs": [
    {
     "data": {
      "text/plain": [
       "array([ 1.        , -1.62085527, -1.08186187,  1.56643675,  1.16024276,\n",
       "       -1.50841207, -1.23582055,  1.44650416,  1.30816579, -1.38108375,\n",
       "       -1.37730336,  1.31214351,  1.44291952, -1.23998583, -1.50497361,\n",
       "        1.16468007,  1.56321113, -1.08650822, -1.61757607,  1.0055824 ,\n",
       "        1.66785529, -0.92217875, -1.71399419,  0.83643848,  1.75581376,\n",
       "       -0.74863733, -1.79326898,  0.65893782,  1.82621161, -0.56761722,\n",
       "       -1.85461094,  0.47485396,  1.87834777, -0.380927  , -1.89740881,\n",
       "        0.28602643,  1.91170286, -0.1904322 , -1.92123612,  0.09434234,\n",
       "        1.92594469])"
      ]
     },
     "execution_count": 5,
     "metadata": {},
     "output_type": "execute_result"
    }
   ],
   "source": [
    "def find_phi(x, j, x_j, h):\n",
    "    \"\"\" Linear shape function for the j-th node at position x. \"\"\"\n",
    "    if j == 0:\n",
    "        if x < x_j[0] or x > x_j[1]:\n",
    "            return 0\n",
    "        else:\n",
    "            return (x_j[j + 1] - x) / h\n",
    "    elif j == n - 1:\n",
    "        if x > x_j[-1] or x < x_j[-2]:\n",
    "            return 0\n",
    "        else:\n",
    "            return (x - x_j[j - 1]) / h\n",
    "    elif x < x_j[j] - h or x > x_j[j] + h:\n",
    "        return 0\n",
    "    elif x <= x_j[j]:\n",
    "        return (x - x_j[j - 1]) / h\n",
    "    else:\n",
    "        return (x_j[j + 1] - x) / h\n",
    "\n",
    "def assemble_stiffness_matrix(n, x_j, h):\n",
    "    \"\"\" Assemble the stiffness matrix. \"\"\"\n",
    "    K = sp.lil_matrix((n, n))\n",
    "\n",
    "    for i in range(n):\n",
    "        for j in range(max(0, i - 1), min(n, i + 2)):  # Only consider neighboring nodes\n",
    "            # Integrate using numerical integration (midpoint rule for simplicity)\n",
    "            if i == j:\n",
    "                # Main diagonal\n",
    "                integral = h * (2 * k(x_j[i]) / h**2 + q(x_j[i]))\n",
    "            else:\n",
    "                # Off diagonal\n",
    "                integral = -k(x_j[i]) / h**2\n",
    "\n",
    "            K[i, j] += integral\n",
    "\n",
    "    return K.tocsr()\n",
    "\n",
    "def assemble_load_vector(n, x_j, h, mu1, mu2):\n",
    "    \"\"\" Assemble the load vector. \"\"\"\n",
    "    F = np.zeros(n)\n",
    "\n",
    "    # Using midpoint rule for numerical integration\n",
    "    for i in range(n):\n",
    "        F[i] = h * 2 * np.cos(x_j[i])  # f(x) = 2cos(x)\n",
    "\n",
    "    # Adjusting for boundary conditions\n",
    "    F[0] -= mu1\n",
    "    F[-1] -= mu2\n",
    "\n",
    "    return F\n",
    "\n",
    "# Assemble stiffness matrix and load vector\n",
    "K = assemble_stiffness_matrix(n, x_j, h)\n",
    "F = assemble_load_vector(n, x_j, h, mu1, mu2)\n",
    "\n",
    "# Solve the linear system KU = F\n",
    "U = scipy.sparse.linalg.spsolve(K, F)\n",
    "\n",
    "U "
   ]
  },
  {
   "cell_type": "code",
   "execution_count": null,
   "id": "78a7b2d7",
   "metadata": {},
   "outputs": [],
   "source": []
  }
 ],
 "metadata": {
  "kernelspec": {
   "display_name": "Python 3 (ipykernel)",
   "language": "python",
   "name": "python3"
  },
  "language_info": {
   "codemirror_mode": {
    "name": "ipython",
    "version": 3
   },
   "file_extension": ".py",
   "mimetype": "text/x-python",
   "name": "python",
   "nbconvert_exporter": "python",
   "pygments_lexer": "ipython3",
   "version": "3.11.4"
  }
 },
 "nbformat": 4,
 "nbformat_minor": 5
}
