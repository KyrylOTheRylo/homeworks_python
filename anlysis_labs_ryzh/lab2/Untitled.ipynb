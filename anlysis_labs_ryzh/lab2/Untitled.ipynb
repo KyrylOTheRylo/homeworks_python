{
 "cells": [
  {
   "cell_type": "code",
   "execution_count": 1,
   "id": "6e776f89",
   "metadata": {},
   "outputs": [],
   "source": [
    "import numpy as np"
   ]
  },
  {
   "cell_type": "code",
   "execution_count": 2,
   "id": "695117be",
   "metadata": {},
   "outputs": [],
   "source": [
    "from matplotlib import pyplot as plt\n"
   ]
  },
  {
   "cell_type": "code",
   "execution_count": 3,
   "id": "ee4eeca2",
   "metadata": {},
   "outputs": [],
   "source": [
    "A = 0\n",
    "B = 1\n",
    "n = 41\n",
    "h = (B-A)/(n-1)\n",
    "x_j = np.linspace(A, B, n)\n",
    "\n",
    "\n",
    "\n",
    "def real(x, p1=2, p2=np.pi*5.5, p3=1.123):\n",
    "    '''Defining the coefficient p in the d.e.'''\n",
    "    return p1 * np.sin(p2 * x) + p3\n",
    "\n",
    "def q(x):\n",
    "    return 2*np.cos(x)\n",
    "def k(x):\n",
    "    return 2*np.sin(2*x)\n"
   ]
  },
  {
   "cell_type": "code",
   "execution_count": 4,
   "id": "e58a6097",
   "metadata": {},
   "outputs": [
    {
     "name": "stdout",
     "output_type": "stream",
     "text": [
      "-1086.6997873617415 1.123 60.636767299115256\n"
     ]
    }
   ],
   "source": [
    "\n",
    "alpha1 = 1\n",
    "alpha2 = 1\n",
    "\n",
    "def find_params2(k_x, q_x, a1, a2, a, b, real):\n",
    "    \n",
    "    du = lambda a: (real(a+1/10000) - real(a))/(1/10000)\n",
    "    f_x = lambda x: -(k_x(x+1/10000)*du(x+1/10000) - k_x(x)*du(x))/(1/10000) + q_x(x)*real(x) \n",
    "\n",
    "\n",
    "\n",
    "    mu1 = -du(a) * k_x(a) + a1*real(a)\n",
    "    mu2 = du(a)* k_x(b) + a2*real(b)\n",
    "    return f_x, mu1, mu2\n",
    "\n",
    "\n",
    "\n",
    "\n",
    "rhs, mu1, mu2 = find_params2(k,q, alpha1, alpha2, A, B+h, real)\n",
    "print(rhs(1), mu1, mu2)"
   ]
  },
  {
   "cell_type": "code",
   "execution_count": 5,
   "id": "1ececb16",
   "metadata": {},
   "outputs": [
    {
     "name": "stdout",
     "output_type": "stream",
     "text": [
      "21.11469380639003\n",
      "1.1230000000000047\n"
     ]
    }
   ],
   "source": [
    "def A_U(k,q, u1x,a, b,x, n=10000):\n",
    "    step = (b-a)/n\n",
    "    \n",
    "    du1 = lambda x: (u1x(x+step) - u1x(x)) / step\n",
    "    \n",
    "    duk1du1  = lambda x: (k(x+step) - k(x))/step * du1(x) + (du1(x+step) - du1(x))/step * k(x) \n",
    "    return  -duk1du1(x)  + q(x)*u1x(x)\n",
    "\n",
    "A1 =  (alpha2*mu1-alpha1*mu2)/(alpha2*(-k(A)+A*alpha1)-alpha1*(k(B)+B*alpha2))\n",
    "print(A1)\n",
    "\n",
    "B1 =  (k(B)*A1+alpha2*B*A1-mu2)/(-alpha2)\n",
    "print(B1)\n"
   ]
  },
  {
   "cell_type": "code",
   "execution_count": 6,
   "id": "399b225f",
   "metadata": {},
   "outputs": [
    {
     "data": {
      "text/plain": [
       "array([0.   , 0.025, 0.05 , 0.075, 0.1  , 0.125, 0.15 , 0.175, 0.2  ,\n",
       "       0.225, 0.25 , 0.275, 0.3  , 0.325, 0.35 , 0.375, 0.4  , 0.425,\n",
       "       0.45 , 0.475, 0.5  , 0.525, 0.55 , 0.575, 0.6  , 0.625, 0.65 ,\n",
       "       0.675, 0.7  , 0.725, 0.75 , 0.775, 0.8  , 0.825, 0.85 , 0.875,\n",
       "       0.9  , 0.925, 0.95 , 0.975, 1.   ])"
      ]
     },
     "execution_count": 6,
     "metadata": {},
     "output_type": "execute_result"
    }
   ],
   "source": [
    "x_j"
   ]
  },
  {
   "cell_type": "code",
   "execution_count": 7,
   "id": "a176b158",
   "metadata": {},
   "outputs": [],
   "source": [
    "def find_phi(x,j):\n",
    "    \n",
    "    if j== 0:\n",
    "        if x < x_j[0]:\n",
    "            return 0\n",
    "        elif x > x_j[1]:\n",
    "            return 0\n",
    "        else: return (x_j[j+1]-x)/h\n",
    "    elif j == n-1:\n",
    "        if x>x_j[-1]:\n",
    "            return 0\n",
    "        elif x < x_j[-2]:\n",
    "            return 0\n",
    "        \n",
    "        return (x-x_j[j-1])/h\n",
    "    elif x < x_j[j]-h or x> x_j[j+1]:\n",
    "        return 0\n",
    "    \n",
    "    elif x <= x_j[j]:\n",
    "        return (x-x_j[j-1])/h\n",
    "    else:\n",
    "        return (x_j[j+1]-x)/h"
   ]
  },
  {
   "cell_type": "code",
   "execution_count": 8,
   "id": "c1b6f030",
   "metadata": {},
   "outputs": [
    {
     "data": {
      "text/plain": [
       "array([[0., 0., 0., ..., 0., 0., 0.],\n",
       "       [0., 0., 0., ..., 0., 0., 0.],\n",
       "       [0., 0., 0., ..., 0., 0., 0.],\n",
       "       ...,\n",
       "       [0., 0., 0., ..., 0., 0., 0.],\n",
       "       [0., 0., 0., ..., 0., 0., 0.],\n",
       "       [0., 0., 0., ..., 0., 0., 0.]])"
      ]
     },
     "execution_count": 8,
     "metadata": {},
     "output_type": "execute_result"
    }
   ],
   "source": [
    "alpha_ii = np.zeros((n,n))\n",
    "alpha_ii\n"
   ]
  },
  {
   "cell_type": "code",
   "execution_count": 9,
   "id": "88963a5c",
   "metadata": {},
   "outputs": [
    {
     "name": "stdout",
     "output_type": "stream",
     "text": [
      "0\n"
     ]
    },
    {
     "data": {
      "text/plain": [
       "array([[  3.01827571,  -1.99325199,   0.        , ...,   0.        ,\n",
       "          0.        ,   0.        ],\n",
       "       [ -1.99325199,   8.03470715,  -5.99142335, ...,   0.        ,\n",
       "          0.        ,   0.        ],\n",
       "       [  0.        ,  -5.99142335,  16.01601191, ...,   0.        ,\n",
       "          0.        ,   0.        ],\n",
       "       ...,\n",
       "       [  0.        ,   0.        ,   0.        , ..., 151.51581803,\n",
       "        -75.09634647,   0.        ],\n",
       "       [  0.        ,   0.        ,   0.        , ..., -75.09634647,\n",
       "        148.73905394, -73.61462245],\n",
       "       [  0.        ,   0.        ,   0.        , ...,   0.        ,\n",
       "        -73.61462245,  74.62831812]])"
      ]
     },
     "execution_count": 9,
     "metadata": {},
     "output_type": "execute_result"
    }
   ],
   "source": [
    "acc = 1000\n",
    "step = h/(acc-1)\n",
    "\n",
    "for i in range(1,n):\n",
    "    sum_ii = 0  \n",
    "    for l in range(acc):\n",
    "        sum_ii+= (-k(x_j[i]-h+l*step ) + (x_j[i]-h+l*step - x_j[i-1])*(x_j[i] - (x_j[i]-h+l*step))*q(x_j[i]-h+l*step))*step\n",
    "    alpha_ii[i,i-1] = 1/h**2* (sum_ii )\n",
    "for i in range(n-1):\n",
    "    sum_ii = 0  \n",
    "    for l in range(acc):\n",
    "        sum_ii+= (-k(x_j[i]+l*step) + (x_j[i]+l*step - x_j[i])*(x_j[i+1] - (x_j[i]+l*step))*q(x_j[i]+l*step))*step\n",
    "    alpha_ii[i,i+1] = 1/h**2* (sum_ii )\n",
    "for i in range(n):\n",
    "    sum_ii = 0  \n",
    "    for l in range(acc):\n",
    "        sum_ii+= (k(x_j[i]-h+l*step) + (x_j[i]-h+l*step - x_j[i-1])**2*q(x_j[i-1]+l*step))*step\n",
    "        sum_ii+= (k(x_j[i]+l*step) + (-x_j[i]-l*step + x_j[i]+h)**2*q(x_j[i]+l*step))*step\n",
    "    alpha_ii[i,i] = 1/h**2* (sum_ii)    \n",
    "\n",
    "alpha_ii[0,0] =  1/h**2 * np.sum([(k(x_j[0]+l*step)+h*h* find_phi(x_j[0]+l*step, 0)**2*q(x_j[0]+l*step))*step for l in range(acc)])  \n",
    "alpha_ii[-1,-1] = 1/h**2* np.sum([(k(x_j[n-2]+l*step)+h*h*find_phi(x_j[n-2] + l*step,n-1)**2*q(x_j[n-2]+l*step))*step for l in range(acc)]) \n",
    "alpha_ii[0,0]+= alpha1\n",
    "alpha_ii[-1,-1] += alpha2 \n",
    "\n",
    "print(A)\n",
    "alpha_ii"
   ]
  },
  {
   "cell_type": "code",
   "execution_count": 10,
   "id": "d05f3dec",
   "metadata": {},
   "outputs": [
    {
     "data": {
      "text/plain": [
       "array([0., 0., 0., 0., 0., 0., 0., 0., 0., 0., 0., 0., 0., 0., 0., 0., 0.,\n",
       "       0., 0., 0., 0., 0., 0., 0., 0., 0., 0., 0., 0., 0., 0., 0., 0., 0.,\n",
       "       0., 0., 0., 0., 0., 0., 0.])"
      ]
     },
     "execution_count": 10,
     "metadata": {},
     "output_type": "execute_result"
    }
   ],
   "source": [
    "b_ii = np.zeros(n)\n",
    "\n",
    "\n",
    "b_ii= b_ii.T\n",
    "b_ii\n",
    "    "
   ]
  },
  {
   "cell_type": "code",
   "execution_count": 11,
   "id": "1804abf5",
   "metadata": {},
   "outputs": [],
   "source": [
    "def find_b_ii(rhs):\n",
    "    acc = 1000\n",
    "    step = h/(acc-1)\n",
    "    for i in range(0,n):\n",
    "        sum_ii = 0  \n",
    "        for l in range(acc):\n",
    "            sum_ii+= (rhs(x_j[i]+l*step)*(x_j[i] +h - (x_j[i]+l*step)))*step\n",
    "            sum_ii+= (rhs(x_j[i]-h+l*step)*( l*step  ))*step\n",
    "        b_ii[i] = 1/h * (sum_ii  )\n",
    "        \n",
    "    b_ii[0] = np.sum([(rhs(x_j[0]+l*step)*find_phi(x_j[0]+l*step,0))*step  for l in range(acc)]) +mu1 \n",
    "    b_ii[-1] = np.sum([(rhs(x_j[n-2]+l*step-h)*find_phi(x_j[n-2]+l*step,n-1))*step for l in range(acc)]) + mu2\n",
    "    print(b_ii)\n",
    "    return b_ii"
   ]
  },
  {
   "cell_type": "code",
   "execution_count": 12,
   "id": "af590d26",
   "metadata": {},
   "outputs": [
    {
     "name": "stdout",
     "output_type": "stream",
     "text": [
      "[ -0.49019659  -2.27354565   0.24131862   3.50485627   6.43543205\n",
      "   7.96187043   7.32565501   4.31296114  -0.64488201  -6.53285444\n",
      " -11.96694525 -15.51556993 -16.05360604 -13.06437387  -6.81418409\n",
      "   1.64850993  10.67779173  18.36453749  22.94997501  23.22741692\n",
      "  18.8404979   10.40660905  -0.56868368 -11.97468373 -21.52023628\n",
      " -27.21138614 -27.77959409 -22.96671381 -13.60238641  -1.45354004\n",
      "  11.12527338  21.6686715   28.10434178  29.17758113  24.70661734\n",
      "  15.61494611   3.73462349  -8.57664751 -18.92237316 -25.35440374\n",
      "  48.63241357]\n"
     ]
    },
    {
     "data": {
      "text/plain": [
       "array([ 7.91013917, 12.22383203, 14.14047224, 15.33840399, 15.99939845,\n",
       "       16.19937486, 16.03435816, 15.63846354, 15.17253159, 14.80073331,\n",
       "       14.66369935, 14.85462685, 15.40339201, 16.27189166, 17.36162946,\n",
       "       18.53224374, 19.62762782, 20.50487856, 21.06077713, 21.25095137,\n",
       "       21.0982089 , 20.68851536, 20.15536026, 19.65538413, 19.33974566,\n",
       "       19.3264894 , 19.67899133, 20.39444289, 21.40449078, 22.58791722,\n",
       "       23.7930336 , 24.865677  , 25.6776695 , 26.1505156 , 26.26998767,\n",
       "       26.0889232 , 25.71772294, 25.30429844, 25.00715542, 24.96656108,\n",
       "       25.27909551])"
      ]
     },
     "execution_count": 12,
     "metadata": {},
     "output_type": "execute_result"
    }
   ],
   "source": [
    "y_i = np.linalg.solve(alpha_ii,find_b_ii(lambda x: rhs(x) ))\n",
    "y_i\n",
    "#-A_U(k,q,lambda x: A1*x + B1,A,B,x)"
   ]
  },
  {
   "cell_type": "code",
   "execution_count": 13,
   "id": "f3896e4b",
   "metadata": {},
   "outputs": [
    {
     "data": {
      "text/plain": [
       "7.910139165285479"
      ]
     },
     "execution_count": 13,
     "metadata": {},
     "output_type": "execute_result"
    }
   ],
   "source": [
    "u_app = lambda x: np.sum([y_i[j]*find_phi(x,j)  for j in range(n)])\n",
    "u_app(0)"
   ]
  },
  {
   "cell_type": "code",
   "execution_count": 14,
   "id": "213817f8",
   "metadata": {},
   "outputs": [],
   "source": [
    "X = np.linspace(A,B,221)\n",
    "Y_app = [u_app(x)   for x in X]"
   ]
  },
  {
   "cell_type": "code",
   "execution_count": 15,
   "id": "6d126b2a",
   "metadata": {},
   "outputs": [
    {
     "data": {
      "image/png": "[encoded data removed]",
      "text/plain": [
       "<Figure size 1000x600 with 1 Axes>"
      ]
     },
     "metadata": {},
     "output_type": "display_data"
    }
   ],
   "source": [
    "plt.figure(figsize=(10, 6))\n",
    "plt.plot( X,real(X),c='r', label=\"REAL\")\n",
    "plt.plot( X,Y_app,c='g', label=\"EXP\")\n",
    "plt.legend()\n",
    "plt.show()"
   ]
  },
  {
   "cell_type": "code",
   "execution_count": null,
   "id": "e981445b",
   "metadata": {},
   "outputs": [],
   "source": []
  },
  {
   "cell_type": "code",
   "execution_count": null,
   "id": "e4c053a6",
   "metadata": {},
   "outputs": [],
   "source": []
  }
 ],
 "metadata": {
  "kernelspec": {
   "display_name": "Python 3 (ipykernel)",
   "language": "python",
   "name": "python3"
  },
  "language_info": {
   "codemirror_mode": {
    "name": "ipython",
    "version": 3
   },
   "file_extension": ".py",
   "mimetype": "text/x-python",
   "name": "python",
   "nbconvert_exporter": "python",
   "pygments_lexer": "ipython3",
   "version": "3.11.4"
  }
 },
 "nbformat": 4,
 "nbformat_minor": 5
}
