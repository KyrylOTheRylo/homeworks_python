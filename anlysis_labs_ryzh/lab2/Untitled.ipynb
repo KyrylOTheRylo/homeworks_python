{
 "cells": [
  {
   "cell_type": "code",
   "execution_count": 1,
   "id": "6e776f89",
   "metadata": {},
   "outputs": [],
   "source": [
    "import numpy as np"
   ]
  },
  {
   "cell_type": "code",
   "execution_count": 2,
   "id": "695117be",
   "metadata": {},
   "outputs": [],
   "source": [
    "from matplotlib import pyplot as plt\n"
   ]
  },
  {
   "cell_type": "code",
   "execution_count": 3,
   "id": "ee4eeca2",
   "metadata": {},
   "outputs": [],
   "source": [
    "A = 0\n",
    "B = 1\n",
    "n = 141\n",
    "h = (B-A)/(n-1)\n",
    "x_j = np.linspace(A, B, n)\n",
    "\n",
    "\n",
    "\n",
    "def real(x, p1=2, p2=np.pi*5.5, p3=1.123):\n",
    "    '''Defining the coefficient p in the d.e.'''\n",
    "    return p1 * np.sin(p2 * x) + p3\n",
    "\n",
    "def q(x):\n",
    "    return 2*np.cos(x)\n",
    "def k(x):\n",
    "    return 2*np.sin(2*x)\n"
   ]
  },
  {
   "cell_type": "code",
   "execution_count": 4,
   "id": "e58a6097",
   "metadata": {},
   "outputs": [
    {
     "name": "stdout",
     "output_type": "stream",
     "text": [
      "-1086.6997873617415 1.123 -0.8227048579016484\n"
     ]
    }
   ],
   "source": [
    "\n",
    "alpha1 = 1\n",
    "alpha2 = 1\n",
    "\n",
    "def find_params2(k_function, q_function, alpha1, alpha2, start_point, end_point, real_function, h=1e-4):\n",
    "    \"\"\"\n",
    "    Calculate the differential parameters based on input functions and constants.\n",
    "    \n",
    "    Args:\n",
    "    k_function (callable): A function for k(x).\n",
    "    q_function (callable): A function for q(x).\n",
    "    alpha1, alpha2 (float): Coefficients.\n",
    "    start_point, end_point (float): Start and end points of the interval.\n",
    "    real_function (callable): A function for real(x).\n",
    "    h (float): Step size for numerical differentiation (default: 1e-4).\n",
    "    \n",
    "    Returns:\n",
    "    tuple: A tuple containing the differential function f_x and values mu1, mu2.\n",
    "    \"\"\"\n",
    "\n",
    "    def numerical_derivative(func, x, h):\n",
    "        return (func(x + h) - func(x)) / h\n",
    "\n",
    "    def differential_function(x):\n",
    "        du_x_plus_h = numerical_derivative(real_function, x + h, h)\n",
    "        du_x = numerical_derivative(real_function, x, h)\n",
    "        return -(k_function(x + h) * du_x_plus_h - k_function(x) * du_x) / h + q_function(x) * real_function(x)\n",
    "\n",
    "    mu1 = -numerical_derivative(real_function, start_point, h) * k_function(start_point) + alpha1 * real_function(start_point)\n",
    "    mu2 = numerical_derivative(real_function, end_point, h) * k_function(end_point) + alpha2 * real_function(end_point)\n",
    "\n",
    "    return differential_function, mu1, mu2\n",
    "\n",
    "# Example usage\n",
    "rhs, mu1, mu2 = find_params2(k_function=k, q_function=q, alpha1=alpha1, alpha2=alpha2, start_point=A, end_point=B, real_function=real)\n",
    "print(rhs(1), mu1, mu2)"
   ]
  },
  {
   "cell_type": "code",
   "execution_count": 5,
   "id": "1ececb16",
   "metadata": {},
   "outputs": [
    {
     "name": "stdout",
     "output_type": "stream",
     "text": [
      "-0.6903102286520799\n",
      "1.1230000000000002\n"
     ]
    }
   ],
   "source": [
    "def A_U(k_function, q_function, u1_function, start_point, end_point, x, steps=10000):\n",
    "    \"\"\"\n",
    "    Calculate the differential equation value at a point x based on provided functions and interval.\n",
    "\n",
    "    Args:\n",
    "    k_function (callable): Function for k(x).\n",
    "    q_function (callable): Function for q(x).\n",
    "    u1_function (callable): Function for u1(x).\n",
    "    start_point, end_point (float): Start and end points of the interval.\n",
    "    x (float): Point at which to calculate the differential equation.\n",
    "    steps (int): Number of steps for numerical differentiation (default: 10000).\n",
    "\n",
    "    Returns:\n",
    "    float: Value of the differential equation at point x.\n",
    "    \"\"\"\n",
    "\n",
    "    step = (end_point - start_point) / steps\n",
    "\n",
    "    def central_diff(func, x, h):\n",
    "        return (func(x + h) - func(x - h)) / (2 * h)\n",
    "\n",
    "    du1 = central_diff(u1_function, x, step)\n",
    "    d_k = central_diff(k_function, x, step)\n",
    "    d_du1 = central_diff(lambda y: central_diff(u1_function, y, step), x, step)\n",
    "\n",
    "    duk1du1 = d_k * du1 + k_function(x) * d_du1\n",
    "    return -duk1du1 + q_function(x) * u1_function(x)\n",
    "\n",
    "A1 =  (alpha2*mu1-alpha1*mu2)/(alpha2*(-k(A)+A*alpha1)-alpha1*(k(B)+B*alpha2))\n",
    "print(A1)\n",
    "\n",
    "B1 =  (k(B)*A1+alpha2*B*A1-mu2)/(-alpha2)\n",
    "print(B1)\n"
   ]
  },
  {
   "cell_type": "code",
   "execution_count": 6,
   "id": "399b225f",
   "metadata": {},
   "outputs": [
    {
     "data": {
      "text/plain": [
       "array([0.        , 0.00714286, 0.01428571, 0.02142857, 0.02857143,\n",
       "       0.03571429, 0.04285714, 0.05      , 0.05714286, 0.06428571,\n",
       "       0.07142857, 0.07857143, 0.08571429, 0.09285714, 0.1       ,\n",
       "       0.10714286, 0.11428571, 0.12142857, 0.12857143, 0.13571429,\n",
       "       0.14285714, 0.15      , 0.15714286, 0.16428571, 0.17142857,\n",
       "       0.17857143, 0.18571429, 0.19285714, 0.2       , 0.20714286,\n",
       "       0.21428571, 0.22142857, 0.22857143, 0.23571429, 0.24285714,\n",
       "       0.25      , 0.25714286, 0.26428571, 0.27142857, 0.27857143,\n",
       "       0.28571429, 0.29285714, 0.3       , 0.30714286, 0.31428571,\n",
       "       0.32142857, 0.32857143, 0.33571429, 0.34285714, 0.35      ,\n",
       "       0.35714286, 0.36428571, 0.37142857, 0.37857143, 0.38571429,\n",
       "       0.39285714, 0.4       , 0.40714286, 0.41428571, 0.42142857,\n",
       "       0.42857143, 0.43571429, 0.44285714, 0.45      , 0.45714286,\n",
       "       0.46428571, 0.47142857, 0.47857143, 0.48571429, 0.49285714,\n",
       "       0.5       , 0.50714286, 0.51428571, 0.52142857, 0.52857143,\n",
       "       0.53571429, 0.54285714, 0.55      , 0.55714286, 0.56428571,\n",
       "       0.57142857, 0.57857143, 0.58571429, 0.59285714, 0.6       ,\n",
       "       0.60714286, 0.61428571, 0.62142857, 0.62857143, 0.63571429,\n",
       "       0.64285714, 0.65      , 0.65714286, 0.66428571, 0.67142857,\n",
       "       0.67857143, 0.68571429, 0.69285714, 0.7       , 0.70714286,\n",
       "       0.71428571, 0.72142857, 0.72857143, 0.73571429, 0.74285714,\n",
       "       0.75      , 0.75714286, 0.76428571, 0.77142857, 0.77857143,\n",
       "       0.78571429, 0.79285714, 0.8       , 0.80714286, 0.81428571,\n",
       "       0.82142857, 0.82857143, 0.83571429, 0.84285714, 0.85      ,\n",
       "       0.85714286, 0.86428571, 0.87142857, 0.87857143, 0.88571429,\n",
       "       0.89285714, 0.9       , 0.90714286, 0.91428571, 0.92142857,\n",
       "       0.92857143, 0.93571429, 0.94285714, 0.95      , 0.95714286,\n",
       "       0.96428571, 0.97142857, 0.97857143, 0.98571429, 0.99285714,\n",
       "       1.        ])"
      ]
     },
     "execution_count": 6,
     "metadata": {},
     "output_type": "execute_result"
    }
   ],
   "source": [
    "x_j"
   ]
  },
  {
   "cell_type": "code",
   "execution_count": 7,
   "id": "a176b158",
   "metadata": {},
   "outputs": [],
   "source": [
    "def find_phi(x,j):\n",
    "    \n",
    "    if j== 0:\n",
    "        if x < x_j[0]:\n",
    "            return 0\n",
    "        elif x > x_j[1]:\n",
    "            return 0\n",
    "        else: return (x_j[j+1]-x)/h\n",
    "    elif j == n-1:\n",
    "        if x>x_j[-1]:\n",
    "            return 0\n",
    "        elif x < x_j[-2]:\n",
    "            return 0\n",
    "        \n",
    "        return (x-x_j[j-1])/h\n",
    "    elif x < x_j[j]-h or x> x_j[j+1]:\n",
    "        return 0\n",
    "    \n",
    "    elif x <= x_j[j]:\n",
    "        return (x-x_j[j-1])/h\n",
    "    else:\n",
    "        return (x_j[j+1]-x)/h"
   ]
  },
  {
   "cell_type": "code",
   "execution_count": 8,
   "id": "c1b6f030",
   "metadata": {},
   "outputs": [
    {
     "data": {
      "text/plain": [
       "array([[0., 0., 0., ..., 0., 0., 0.],\n",
       "       [0., 0., 0., ..., 0., 0., 0.],\n",
       "       [0., 0., 0., ..., 0., 0., 0.],\n",
       "       ...,\n",
       "       [0., 0., 0., ..., 0., 0., 0.],\n",
       "       [0., 0., 0., ..., 0., 0., 0.],\n",
       "       [0., 0., 0., ..., 0., 0., 0.]])"
      ]
     },
     "execution_count": 8,
     "metadata": {},
     "output_type": "execute_result"
    }
   ],
   "source": [
    "alpha_ii = np.zeros((n,n))\n",
    "alpha_ii\n"
   ]
  },
  {
   "cell_type": "code",
   "execution_count": 9,
   "id": "88963a5c",
   "metadata": {},
   "outputs": [
    {
     "name": "stdout",
     "output_type": "stream",
     "text": [
      "0\n"
     ]
    },
    {
     "data": {
      "text/plain": [
       "array([[   3.00673697,   -1.99958699,    0.        , ...,    0.        ,\n",
       "           0.        ,    0.        ],\n",
       "       [  -1.99958699,    8.01700097,   -6.00311439, ...,    0.        ,\n",
       "           0.        ,    0.        ],\n",
       "       [   0.        ,   -6.00311439,   16.02282922, ...,    0.        ,\n",
       "           0.        ,    0.        ],\n",
       "       ...,\n",
       "       [   0.        ,    0.        ,    0.        , ...,  516.16005171,\n",
       "        -257.29531555,    0.        ],\n",
       "       [   0.        ,    0.        ,    0.        , ..., -257.29531555,\n",
       "         512.9844114 , -255.68128379],\n",
       "       [   0.        ,    0.        ,    0.        , ...,    0.        ,\n",
       "        -255.68128379,  256.68516125]])"
      ]
     },
     "execution_count": 9,
     "metadata": {},
     "output_type": "execute_result"
    }
   ],
   "source": [
    "acc = 1000\n",
    "step = h/(acc-1)\n",
    "\n",
    "for i in range(1,n):\n",
    "    sum_ii = 0  \n",
    "    for l in range(acc):\n",
    "        sum_ii+= (-k(x_j[i]-h+l*step ) + h**2*find_phi(x_j[i]-h+l*step, i)*find_phi(x_j[i]-h+l*step, i-1) *q(x_j[i]-h+l*step))*step\n",
    "    alpha_ii[i,i-1] = 1/h**2* (sum_ii )\n",
    "for i in range(n-1):\n",
    "    sum_ii = 0  \n",
    "    for l in range(acc):\n",
    "        sum_ii+= (-k(x_j[i]+l*step) + h**2*find_phi(x_j[i]+l*step, i)*find_phi(x_j[i]+l*step, i+1)*q(x_j[i]+l*step))*step\n",
    "    alpha_ii[i,i+1] = 1/h**2* (sum_ii )\n",
    "for i in range(n):\n",
    "    sum_ii = 0  \n",
    "    for l in range(acc):\n",
    "        sum_ii+= (k(x_j[i]-h+l*step) + (x_j[i]-h+l*step - x_j[i-1])**2*q(x_j[i-1]+l*step))*step\n",
    "        sum_ii+= (k(x_j[i]+l*step) + (-x_j[i]-l*step + x_j[i]+h)**2*q(x_j[i]+l*step))*step\n",
    "    alpha_ii[i,i] = 1/h**2* (sum_ii)    \n",
    "\n",
    "alpha_ii[0,0] =  1/h**2 * np.sum([(k(x_j[0]+l*step)+h*h* find_phi(x_j[0]+l*step, 0)**2*q(x_j[0]+l*step))*step for l in range(acc)])  \n",
    "alpha_ii[-1,-1] = 1/h**2* np.sum([(k(x_j[n-2]+l*step)+h*h*find_phi(x_j[n-2] + l*step,n-1)**2*q(x_j[n-2]+l*step))*step for l in range(acc)]) \n",
    "alpha_ii[0,0]+= alpha1\n",
    "alpha_ii[-1,-1] += alpha2 \n",
    "\n",
    "print(A)\n",
    "alpha_ii"
   ]
  },
  {
   "cell_type": "code",
   "execution_count": 10,
   "id": "d05f3dec",
   "metadata": {},
   "outputs": [
    {
     "data": {
      "text/plain": [
       "array([0., 0., 0., 0., 0., 0., 0., 0., 0., 0., 0., 0., 0., 0., 0., 0., 0.,\n",
       "       0., 0., 0., 0., 0., 0., 0., 0., 0., 0., 0., 0., 0., 0., 0., 0., 0.,\n",
       "       0., 0., 0., 0., 0., 0., 0., 0., 0., 0., 0., 0., 0., 0., 0., 0., 0.,\n",
       "       0., 0., 0., 0., 0., 0., 0., 0., 0., 0., 0., 0., 0., 0., 0., 0., 0.,\n",
       "       0., 0., 0., 0., 0., 0., 0., 0., 0., 0., 0., 0., 0., 0., 0., 0., 0.,\n",
       "       0., 0., 0., 0., 0., 0., 0., 0., 0., 0., 0., 0., 0., 0., 0., 0., 0.,\n",
       "       0., 0., 0., 0., 0., 0., 0., 0., 0., 0., 0., 0., 0., 0., 0., 0., 0.,\n",
       "       0., 0., 0., 0., 0., 0., 0., 0., 0., 0., 0., 0., 0., 0., 0., 0., 0.,\n",
       "       0., 0., 0., 0., 0.])"
      ]
     },
     "execution_count": 10,
     "metadata": {},
     "output_type": "execute_result"
    }
   ],
   "source": [
    "b_ii = np.zeros(n)\n",
    "\n",
    "\n",
    "b_ii= b_ii.T\n",
    "b_ii\n",
    "    "
   ]
  },
  {
   "cell_type": "code",
   "execution_count": 11,
   "id": "1804abf5",
   "metadata": {},
   "outputs": [],
   "source": [
    "def find_b_ii(rhs):\n",
    "    acc = 1000\n",
    "    step = h/(acc-1)\n",
    "    for i in range(0,n):\n",
    "        sum_ii = 0  \n",
    "        for l in range(acc):\n",
    "            sum_ii+= (rhs(x_j[i]+l*step)*find_phi(x_j[i]+l*step, i))*step\n",
    "            sum_ii+= (rhs(x_j[i]-h+l*step)*find_phi(x_j[i-1]+l*step, i))*step\n",
    "        b_ii[i] =  (sum_ii  )\n",
    "        \n",
    "    b_ii[0] = np.sum([(rhs(x_j[0]+l*step)*find_phi(x_j[0]+l*step,0))*step  for l in range(acc)]) +mu1 \n",
    "    b_ii[-1] = np.sum([(rhs(x_j[n-2]+l*step-h)*find_phi(x_j[n-2]+l*step,n-1))*step for l in range(acc)]) + mu2\n",
    "    print(b_ii)\n",
    "    return b_ii"
   ]
  },
  {
   "cell_type": "code",
   "execution_count": 12,
   "id": "af590d26",
   "metadata": {},
   "outputs": [
    {
     "name": "stdout",
     "output_type": "stream",
     "text": [
      "[ 0.63941997 -0.94188451 -0.87074315 -0.75689703 -0.60327394 -0.41385404\n",
      " -0.19358179  0.0517438   0.31559832  0.59087781  0.87005834  1.14536594\n",
      "  1.40895339  1.65308013  1.8702915   2.05359361  2.19662003  2.29378677\n",
      "  2.34043227  2.33293919  2.26883551  2.14687237  1.96707714  1.73077995\n",
      "  1.44061334  1.10048423  0.71551894  0.29198178 -0.1628314  -0.64072264\n",
      " -1.13274216 -1.62935666 -2.1206323  -2.59642917 -3.04660315 -3.46121155\n",
      " -3.83071813 -4.14619382 -4.39950869 -4.58351158 -4.6921935  -4.72083148\n",
      " -4.66610968 -4.52621521 -4.30090637 -3.99155163 -3.60113825 -3.13424986\n",
      " -2.59701313 -1.99701413 -1.34318545 -0.64566603  0.08436413  0.83487148\n",
      "  1.59317541  2.34617017  3.080558    3.78308951  4.44080668  5.04128405\n",
      "  5.5728637   6.02487929  6.38786521  6.65374653  6.81600618  6.86982601\n",
      "  6.81219872  6.64200848  6.36007829  5.969183    5.47402718  4.88118823\n",
      "  4.19902506  3.43755401  2.60829364  1.72408123  0.79886374 -0.15253294\n",
      " -1.11465268 -2.07167129 -3.00766765 -3.906899   -4.75407541 -5.53462862\n",
      " -6.23497035 -6.84273543 -7.34700522 -7.73850736 -8.00978805 -8.15535369\n",
      " -8.17177913 -8.05778051 -7.81425117 -7.44425978 -6.95301066 -6.34776666\n",
      " -5.63773594 -4.83392447 -3.94895668 -2.99686731 -1.99286816 -0.95309355\n",
      "  0.10567086  1.16627136  2.21147648  3.22426931  4.18813666  5.08734997\n",
      "  5.90723311  6.63441222  7.25704334  7.76501372  8.15011331  8.40617346\n",
      "  8.52917029  8.51729107  8.3709624   8.09283966  7.68775815  7.16264664\n",
      "  6.52640495  5.78974792  4.96501829  4.06597219  3.10754074  2.10557225\n",
      "  1.07655955  0.03735713 -0.99510664 -2.00411733 -2.97345724 -3.88767807\n",
      " -4.73235886 -5.49434466 -6.16196185 -6.72520639 -7.1759019  -7.50782484\n",
      " -7.71679489 -7.80072908 -4.71953715]\n"
     ]
    },
    {
     "data": {
      "text/plain": [
       "array([ 1.12271900e+00,  1.36843296e+00,  1.61043717e+00,  1.84496504e+00,\n",
       "        2.06843321e+00,  2.27743433e+00,  2.46878320e+00,  2.63956399e+00,\n",
       "        2.78717410e+00,  2.90936362e+00,  3.00426946e+00,  3.07044368e+00,\n",
       "        3.10687547e+00,  3.11300653e+00,  3.08873960e+00,  3.03443988e+00,\n",
       "        2.95092952e+00,  2.83947511e+00,  2.70176841e+00,  2.53990064e+00,\n",
       "        2.35633063e+00,  2.15384749e+00,  1.93552809e+00,  1.70469035e+00,\n",
       "        1.46484271e+00,  1.21963078e+00,  9.72781887e-01,  7.28048360e-01,\n",
       "        4.89150462e-01,  2.59719785e-01,  4.32440112e-02, -1.56986150e-01,\n",
       "       -3.37927023e-01, -4.96828269e-01, -6.31274728e-01, -7.39223168e-01,\n",
       "       -8.19033364e-01, -8.69493060e-01, -8.89836411e-01, -8.79755639e-01,\n",
       "       -8.39405722e-01, -7.69402039e-01, -6.70811011e-01, -5.45133888e-01,\n",
       "       -3.94283915e-01, -2.20557226e-01, -2.65979271e-02,  1.84642129e-01,\n",
       "        4.09948239e-01,  6.45891753e-01,  8.88882225e-01,  1.13522203e+00,\n",
       "        1.38116261e+00,  1.62296150e+00,  1.85693924e+00,  2.07953538e+00,\n",
       "        2.28736260e+00,  2.47725826e+00,  2.64633253e+00,  2.79201228e+00,\n",
       "        2.91208031e+00,  3.00470901e+00,  3.06848819e+00,  3.10244654e+00,\n",
       "        3.10606637e+00,  3.07929152e+00,  3.02252820e+00,  2.93663880e+00,\n",
       "        2.82292879e+00,  2.68312685e+00,  2.51935855e+00,  2.33411406e+00,\n",
       "        2.13021023e+00,  1.91074777e+00,  1.67906404e+00,  1.43868231e+00,\n",
       "        1.19325817e+00,  9.46523883e-01,  7.02231645e-01,  4.64096482e-01,\n",
       "        2.35739747e-01,  2.06340226e-02, -1.77949698e-01, -3.56991774e-01,\n",
       "       -5.13769856e-01, -6.45900291e-01, -7.51374393e-01, -8.28588990e-01,\n",
       "       -8.76370819e-01, -8.93994370e-01, -8.81192922e-01, -8.38162600e-01,\n",
       "       -7.65559392e-01, -6.64489168e-01, -5.36490855e-01, -3.83513027e-01,\n",
       "       -2.07884261e-01, -1.22777116e-02,  2.00329552e-01,  4.26701839e-01,\n",
       "        6.63394058e-01,  9.06804128e-01,  1.15322777e+00,  1.39891487e+00,\n",
       "        1.64012652e+00,  1.87319188e+00,  2.09456406e+00,  2.30087404e+00,\n",
       "        2.48898194e+00,  2.65602477e+00,  2.79946002e+00,  2.91710427e+00,\n",
       "        3.00716646e+00,  3.06827513e+00,  3.09949926e+00,  3.10036244e+00,\n",
       "        3.07085012e+00,  3.01140983e+00,  2.92294435e+00,  2.80679803e+00,\n",
       "        2.66473627e+00,  2.49891870e+00,  2.31186631e+00,  2.10642311e+00,\n",
       "        1.88571286e+00,  1.65309154e+00,  1.41209632e+00,  1.16639169e+00,\n",
       "        9.19713805e-01,  6.75813554e-01,  4.38399562e-01,  2.11081747e-01,\n",
       "       -2.68359588e-03, -1.99646367e-01, -3.76812110e-01, -5.31487563e-01,\n",
       "       -6.61321629e-01, -7.64341140e-01, -8.38980877e-01, -8.84107378e-01,\n",
       "       -8.99036179e-01])"
      ]
     },
     "execution_count": 12,
     "metadata": {},
     "output_type": "execute_result"
    }
   ],
   "source": [
    "y_i = np.linalg.solve(alpha_ii,find_b_ii(lambda x: rhs(x) ))\n",
    "y_i\n",
    "#-A_U(k,q,lambda x: A1*x + B1,A,B,x)"
   ]
  },
  {
   "cell_type": "code",
   "execution_count": 13,
   "id": "f3896e4b",
   "metadata": {},
   "outputs": [
    {
     "data": {
      "text/plain": [
       "1.1227189959229325"
      ]
     },
     "execution_count": 13,
     "metadata": {},
     "output_type": "execute_result"
    }
   ],
   "source": [
    "u_app = lambda x: np.sum([y_i[j]*find_phi(x,j)  for j in range(n)])\n",
    "u_app(0)"
   ]
  },
  {
   "cell_type": "code",
   "execution_count": 14,
   "id": "213817f8",
   "metadata": {},
   "outputs": [],
   "source": [
    "X = np.linspace(A,B,221)\n",
    "Y_app = [u_app(x)   for x in X]"
   ]
  },
  {
   "cell_type": "code",
   "execution_count": 15,
   "id": "6d126b2a",
   "metadata": {},
   "outputs": [
    {
     "data": {
      "image/png": "[encoded data removed]",
      "text/plain": [
       "<Figure size 1000x600 with 1 Axes>"
      ]
     },
     "metadata": {},
     "output_type": "display_data"
    }
   ],
   "source": [
    "plt.figure(figsize=(10, 6))\n",
    "plt.plot( X,real(X),c='r', label=\"REAL\")\n",
    "plt.plot( X,Y_app,c='g', label=\"EXP\")\n",
    "plt.legend()\n",
    "plt.show()"
   ]
  },
  {
   "cell_type": "code",
   "execution_count": null,
   "id": "e981445b",
   "metadata": {},
   "outputs": [],
   "source": []
  },
  {
   "cell_type": "code",
   "execution_count": null,
   "id": "e4c053a6",
   "metadata": {},
   "outputs": [],
   "source": []
  }
 ],
 "metadata": {
  "kernelspec": {
   "display_name": "Python 3 (ipykernel)",
   "language": "python",
   "name": "python3"
  },
  "language_info": {
   "codemirror_mode": {
    "name": "ipython",
    "version": 3
   },
   "file_extension": ".py",
   "mimetype": "text/x-python",
   "name": "python",
   "nbconvert_exporter": "python",
   "pygments_lexer": "ipython3",
   "version": "3.11.4"
  }
 },
 "nbformat": 4,
 "nbformat_minor": 5
}
