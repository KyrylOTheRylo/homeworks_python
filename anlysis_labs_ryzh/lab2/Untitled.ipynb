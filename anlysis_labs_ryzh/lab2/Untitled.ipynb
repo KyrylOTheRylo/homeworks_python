{
 "cells": [
  {
   "cell_type": "code",
   "execution_count": 1,
   "id": "6e776f89",
   "metadata": {},
   "outputs": [],
   "source": [
    "import numpy as np"
   ]
  },
  {
   "cell_type": "code",
   "execution_count": 2,
   "id": "695117be",
   "metadata": {},
   "outputs": [],
   "source": [
    "from matplotlib import pyplot as plt\n"
   ]
  },
  {
   "cell_type": "code",
   "execution_count": 3,
   "id": "ee4eeca2",
   "metadata": {},
   "outputs": [],
   "source": [
    "def real(x):\n",
    "    return np.sin(x)+np.cos(3*x)"
   ]
  },
  {
   "cell_type": "code",
   "execution_count": 189,
   "id": "e58a6097",
   "metadata": {},
   "outputs": [],
   "source": [
    "A = 0\n",
    "B = 2\n",
    "n = 141\n",
    "h = (B-A)/(n-1)\n",
    "x_j = np.linspace(A, B, n)\n",
    "\n",
    "def basis(x,n, step):\n",
    "    answ = np.zeros((n,n))\n",
    "\n",
    "    \n",
    "def q(x):\n",
    "    return 2*np.sin(x)\n",
    "def k(x):\n",
    "    return 2*x\n",
    "def f(k,q,real,a,b):\n",
    "    \n",
    "    du = lambda a: (real(a+1/10000) - real(a))/(1/10000)\n",
    "    f_x = lambda x: -(k(x+1/10000)*du(x+1/10000) - k(x)*du(x))/(1/10000) + q(x)*real(x)  \n",
    "    return f_x"
   ]
  },
  {
   "cell_type": "code",
   "execution_count": 190,
   "id": "1ececb16",
   "metadata": {},
   "outputs": [
    {
     "data": {
      "text/plain": [
       "-16.62383429463506"
      ]
     },
     "execution_count": 190,
     "metadata": {},
     "output_type": "execute_result"
    }
   ],
   "source": [
    "rhs = f(k,q,real,A,B)\n",
    "rhs(1)"
   ]
  },
  {
   "cell_type": "code",
   "execution_count": 191,
   "id": "399b225f",
   "metadata": {},
   "outputs": [
    {
     "data": {
      "text/plain": [
       "array([0.        , 0.01428571, 0.02857143, 0.04285714, 0.05714286,\n",
       "       0.07142857, 0.08571429, 0.1       , 0.11428571, 0.12857143,\n",
       "       0.14285714, 0.15714286, 0.17142857, 0.18571429, 0.2       ,\n",
       "       0.21428571, 0.22857143, 0.24285714, 0.25714286, 0.27142857,\n",
       "       0.28571429, 0.3       , 0.31428571, 0.32857143, 0.34285714,\n",
       "       0.35714286, 0.37142857, 0.38571429, 0.4       , 0.41428571,\n",
       "       0.42857143, 0.44285714, 0.45714286, 0.47142857, 0.48571429,\n",
       "       0.5       , 0.51428571, 0.52857143, 0.54285714, 0.55714286,\n",
       "       0.57142857, 0.58571429, 0.6       , 0.61428571, 0.62857143,\n",
       "       0.64285714, 0.65714286, 0.67142857, 0.68571429, 0.7       ,\n",
       "       0.71428571, 0.72857143, 0.74285714, 0.75714286, 0.77142857,\n",
       "       0.78571429, 0.8       , 0.81428571, 0.82857143, 0.84285714,\n",
       "       0.85714286, 0.87142857, 0.88571429, 0.9       , 0.91428571,\n",
       "       0.92857143, 0.94285714, 0.95714286, 0.97142857, 0.98571429,\n",
       "       1.        , 1.01428571, 1.02857143, 1.04285714, 1.05714286,\n",
       "       1.07142857, 1.08571429, 1.1       , 1.11428571, 1.12857143,\n",
       "       1.14285714, 1.15714286, 1.17142857, 1.18571429, 1.2       ,\n",
       "       1.21428571, 1.22857143, 1.24285714, 1.25714286, 1.27142857,\n",
       "       1.28571429, 1.3       , 1.31428571, 1.32857143, 1.34285714,\n",
       "       1.35714286, 1.37142857, 1.38571429, 1.4       , 1.41428571,\n",
       "       1.42857143, 1.44285714, 1.45714286, 1.47142857, 1.48571429,\n",
       "       1.5       , 1.51428571, 1.52857143, 1.54285714, 1.55714286,\n",
       "       1.57142857, 1.58571429, 1.6       , 1.61428571, 1.62857143,\n",
       "       1.64285714, 1.65714286, 1.67142857, 1.68571429, 1.7       ,\n",
       "       1.71428571, 1.72857143, 1.74285714, 1.75714286, 1.77142857,\n",
       "       1.78571429, 1.8       , 1.81428571, 1.82857143, 1.84285714,\n",
       "       1.85714286, 1.87142857, 1.88571429, 1.9       , 1.91428571,\n",
       "       1.92857143, 1.94285714, 1.95714286, 1.97142857, 1.98571429,\n",
       "       2.        ])"
      ]
     },
     "execution_count": 191,
     "metadata": {},
     "output_type": "execute_result"
    }
   ],
   "source": [
    "x_j"
   ]
  },
  {
   "cell_type": "code",
   "execution_count": 228,
   "id": "a176b158",
   "metadata": {},
   "outputs": [],
   "source": [
    "def find_phi(x,j):\n",
    "\n",
    "    if x < x_j[j-1] or x> x_j[j+1]:\n",
    "        return 0\n",
    "    elif x <= x_j[j]:\n",
    "        return (x-x_j[j-1])/h\n",
    "    else:\n",
    "        return (x_j[j+1]-x)/h"
   ]
  },
  {
   "cell_type": "code",
   "execution_count": 229,
   "id": "085eabd8",
   "metadata": {},
   "outputs": [
    {
     "data": {
      "text/plain": [
       "array([[0., 0., 0., ..., 0., 0., 0.],\n",
       "       [0., 0., 0., ..., 0., 0., 0.],\n",
       "       [0., 0., 0., ..., 0., 0., 0.],\n",
       "       ...,\n",
       "       [0., 0., 0., ..., 0., 0., 0.],\n",
       "       [0., 0., 0., ..., 0., 0., 0.],\n",
       "       [0., 0., 0., ..., 0., 0., 0.]])"
      ]
     },
     "execution_count": 229,
     "metadata": {},
     "output_type": "execute_result"
    }
   ],
   "source": [
    "alpha_ii = np.zeros((n,n))\n",
    "alpha_ii\n"
   ]
  },
  {
   "cell_type": "code",
   "execution_count": 230,
   "id": "88963a5c",
   "metadata": {},
   "outputs": [
    {
     "data": {
      "text/plain": [
       "array([[  -4.04161072,   -1.0007625 ,    0.        , ...,    0.        ,\n",
       "           0.        ,    0.        ],\n",
       "       [  -1.0007625 ,    4.00563855,   -3.00242401, ...,    0.        ,\n",
       "           0.        ,    0.        ],\n",
       "       [   0.        ,   -3.00242401,    8.01073175, ...,    0.        ,\n",
       "           0.        ,    0.        ],\n",
       "       ...,\n",
       "       [   0.        ,    0.        ,    0.        , ...,  552.62257344,\n",
       "        -277.25542101,    0.        ],\n",
       "       [   0.        ,    0.        ,    0.        , ..., -277.25542101,\n",
       "         556.62613819, -279.25756118],\n",
       "       [   0.        ,    0.        ,    0.        , ...,    0.        ,\n",
       "        -279.25756118,    0.        ]])"
      ]
     },
     "execution_count": 230,
     "metadata": {},
     "output_type": "execute_result"
    }
   ],
   "source": [
    "acc = 1000\n",
    "step = h/(acc-1)\n",
    "for i in range(1,n):\n",
    "    sum_ii = 0  \n",
    "    for l in range(acc):\n",
    "        sum_ii+= (-k(x_j[i]+l*step -h) + (x_j[i]+l*step -h - x_j[i-1])*(x_j[i] - x_j[i]+l*step+h)*q(x_j[i]+l*step-h))*step\n",
    "    alpha_ii[i-1,i] = 1/h**2* sum_ii\n",
    "for i in range(n-1):\n",
    "    sum_ii = 0  \n",
    "    for l in range(acc):\n",
    "        sum_ii+= (-k(x_j[i]+l*step) + (x_j[i]+l*step - x_j[i])*(x_j[i+1] - x_j[i]+l*step)*q(x_j[i]+l*step))*step\n",
    "    alpha_ii[i+1,i] = 1/h**2* sum_ii\n",
    "for i in range(n-1):\n",
    "    sum_ii = 0  \n",
    "    for l in range(acc):\n",
    "        sum_ii+= (k(x_j[i]+l*step-h) + (x_j[i]+l*step-h - x_j[i-1])**2*q(x_j[i]+l*step-h))*step\n",
    "        sum_ii+= (k(x_j[i]+l*step) + (-x_j[i]+l*step + x_j[i+1])**2*q(x_j[i]+l*step))*step\n",
    "    alpha_ii[i,i] = 1/h**2* sum_ii    \n",
    "alpha_ii"
   ]
  },
  {
   "cell_type": "code",
   "execution_count": 231,
   "id": "d05f3dec",
   "metadata": {},
   "outputs": [
    {
     "data": {
      "text/plain": [
       "array([0., 0., 0., 0., 0., 0., 0., 0., 0., 0., 0., 0., 0., 0., 0., 0., 0.,\n",
       "       0., 0., 0., 0., 0., 0., 0., 0., 0., 0., 0., 0., 0., 0., 0., 0., 0.,\n",
       "       0., 0., 0., 0., 0., 0., 0., 0., 0., 0., 0., 0., 0., 0., 0., 0., 0.,\n",
       "       0., 0., 0., 0., 0., 0., 0., 0., 0., 0., 0., 0., 0., 0., 0., 0., 0.,\n",
       "       0., 0., 0., 0., 0., 0., 0., 0., 0., 0., 0., 0., 0., 0., 0., 0., 0.,\n",
       "       0., 0., 0., 0., 0., 0., 0., 0., 0., 0., 0., 0., 0., 0., 0., 0., 0.,\n",
       "       0., 0., 0., 0., 0., 0., 0., 0., 0., 0., 0., 0., 0., 0., 0., 0., 0.,\n",
       "       0., 0., 0., 0., 0., 0., 0., 0., 0., 0., 0., 0., 0., 0., 0., 0., 0.,\n",
       "       0., 0., 0., 0., 0.])"
      ]
     },
     "execution_count": 231,
     "metadata": {},
     "output_type": "execute_result"
    }
   ],
   "source": [
    "b_ii = np.zeros(n)\n",
    "\n",
    "\n",
    "b_ii= b_ii.T\n",
    "b_ii\n",
    "    "
   ]
  },
  {
   "cell_type": "code",
   "execution_count": 232,
   "id": "1804abf5",
   "metadata": {},
   "outputs": [
    {
     "data": {
      "text/plain": [
       "array([ 4.52165705, -0.03639227, -0.02086748, -0.0054213 ,  0.00988819,\n",
       "        0.02500343,  0.03986753,  0.05442447,  0.06861919,  0.08239783,\n",
       "        0.09570781,  0.10849803,  0.12071898,  0.13232291,  0.14326395,\n",
       "        0.15349825,  0.1629841 ,  0.17168205,  0.17955504,  0.18656851,\n",
       "        0.19269048,  0.19789167,  0.20214557,  0.20542854,  0.20771988,\n",
       "        0.20900189,  0.20925993,  0.2084825 ,  0.20666124,  0.20379098,\n",
       "        0.19986979,  0.19489898,  0.18888309,  0.18182994,  0.17375059,\n",
       "        0.16465931,  0.15457362,  0.14351417,  0.13150478,  0.11857233,\n",
       "        0.10474675,  0.09006093,  0.07455063,  0.05825444,  0.04121368,\n",
       "        0.02347227,  0.00507667, -0.01392425, -0.03347933, -0.05353523,\n",
       "       -0.07403658, -0.09492607, -0.11614466, -0.13763165, -0.15932491,\n",
       "       -0.18116095, -0.20307514, -0.22500186, -0.24687466, -0.26862641,\n",
       "       -0.29018952, -0.31149605, -0.33247795, -0.35306719, -0.37319596,\n",
       "       -0.39279683, -0.41180296, -0.43014824, -0.44776748, -0.46459661,\n",
       "       -0.4805728 , -0.4956347 , -0.50972254, -0.52277834, -0.53474606,\n",
       "       -0.54557175, -0.55520374, -0.56359272, -0.57069195, -0.57645739,\n",
       "       -0.58084778, -0.58382484, -0.58535335, -0.58540126, -0.58393983,\n",
       "       -0.58094369, -0.57639096, -0.57026333, -0.56254614, -0.55322843,\n",
       "       -0.54230301, -0.52976654, -0.51561951, -0.49986635, -0.48251538,\n",
       "       -0.46357889, -0.44307309, -0.42101817, -0.39743821, -0.37236124,\n",
       "       -0.34581915, -0.31784767, -0.28848632, -0.25777838, -0.22577076,\n",
       "       -0.19251397, -0.15806203, -0.12247236, -0.08580571, -0.048126  ,\n",
       "       -0.00950023,  0.03000163,  0.07030681,  0.11133985,  0.15302277,\n",
       "        0.19527522,  0.23801464,  0.28115642,  0.32461409,  0.36829949,\n",
       "        0.41212292,  0.45599342,  0.49981885,  0.54350618,  0.58696162,\n",
       "        0.63009087,  0.6727993 ,  0.71499216,  0.75657481,  0.7974529 ,\n",
       "        0.8375326 ,  0.87672079,  0.9149253 ,  0.9520551 ,  0.98802052,\n",
       "        1.02273343,  1.05610749,  1.0880583 ,  1.11850365,  1.14736369,\n",
       "        0.        ])"
      ]
     },
     "execution_count": 232,
     "metadata": {},
     "output_type": "execute_result"
    }
   ],
   "source": [
    "acc = 1000\n",
    "step = h/(acc-1)\n",
    "for i in range(n-1):\n",
    "    sum_ii = 0  \n",
    "    for l in range(acc):\n",
    "        sum_ii+= (rhs(x_j[i]+l*step)*(x_j[i+1] - x_j[i]+l*step))*step\n",
    "        sum_ii+= (rhs(x_j[i]+l*step-h)*( x_j[i]+l*step - h -x_j[i-1]))*step\n",
    "    b_ii[i] = 1/h * sum_ii\n",
    "b_ii"
   ]
  },
  {
   "cell_type": "code",
   "execution_count": 233,
   "id": "af590d26",
   "metadata": {},
   "outputs": [
    {
     "data": {
      "text/plain": [
       "array([-1.04082347, -0.31481372, -0.06095761,  0.09547332,  0.20806474,\n",
       "        0.2947171 ,  0.36359823,  0.41913351,  0.46400315,  0.49996484,\n",
       "        0.52824354,  0.54973576,  0.56512499,  0.57495107,  0.5796537 ,\n",
       "        0.5796011 ,  0.57510927,  0.56645546,  0.55388773,  0.53763189,\n",
       "        0.51789661,  0.49487733,  0.46875911,  0.43971888,  0.40792714,\n",
       "        0.37354932,  0.3367468 ,  0.29767767,  0.25649741,  0.21335931,\n",
       "        0.16841487,  0.12181402,  0.07370532,  0.02423612, -0.02644741,\n",
       "       -0.07820025, -0.13087849, -0.18433944, -0.2384416 , -0.29304483,\n",
       "       -0.34801039, -0.40320106, -0.45848129, -0.51371734, -0.56877736,\n",
       "       -0.62353162, -0.67785262, -0.73161528, -0.78469704, -0.83697812,\n",
       "       -0.88834158, -0.93867357, -0.98786346, -1.03580397, -1.0823914 ,\n",
       "       -1.12752574, -1.17111081, -1.21305447, -1.25326871, -1.29166981,\n",
       "       -1.3281785 , -1.36272004, -1.39522439, -1.42562631, -1.45386547,\n",
       "       -1.47988654, -1.50363934, -1.52507886, -1.54416539, -1.56086456,\n",
       "       -1.57514744, -1.58699058, -1.59637605, -1.60329147, -1.60773009,\n",
       "       -1.60969075, -1.60917792, -1.60620172, -1.60077788, -1.59292773,\n",
       "       -1.5826782 , -1.57006176, -1.55511638, -1.53788549, -1.51841788,\n",
       "       -1.49676767, -1.47299422, -1.44716201, -1.41934057, -1.38960435,\n",
       "       -1.35803263, -1.32470936, -1.28972304, -1.25316659, -1.21513718,\n",
       "       -1.17573607, -1.13506846, -1.0932433 , -1.05037312, -1.00657383,\n",
       "       -0.96196454, -0.91666734, -0.87080712, -0.82451133, -0.77790979,\n",
       "       -0.73113443, -0.68431911, -0.63759935, -0.59111211, -0.54499556,\n",
       "       -0.49938883, -0.45443175, -0.41026465, -0.36702805, -0.32486246,\n",
       "       -0.28390813, -0.24430476, -0.20619127, -0.16970557, -0.13498428,\n",
       "       -0.10216251, -0.07137357, -0.04274878, -0.01641719,  0.00749464,\n",
       "        0.0288629 ,  0.04756672,  0.06348843,  0.0765138 ,  0.0865322 ,\n",
       "        0.09343685,  0.09712504,  0.09749829,  0.09446258,  0.08792851,\n",
       "        0.07781149,  0.06403192,  0.04651535,  0.02519261,  0.        ,\n",
       "       -0.02912062])"
      ]
     },
     "execution_count": 233,
     "metadata": {},
     "output_type": "execute_result"
    }
   ],
   "source": [
    "y_i = np.linalg.solve(alpha_ii,b_ii)\n",
    "y_i"
   ]
  },
  {
   "cell_type": "code",
   "execution_count": 234,
   "id": "f3896e4b",
   "metadata": {},
   "outputs": [],
   "source": [
    "u_app = lambda x: np.sum([y_i[j]*find_phi(x,j) for j in range(n-1)])"
   ]
  },
  {
   "cell_type": "code",
   "execution_count": 235,
   "id": "213817f8",
   "metadata": {},
   "outputs": [],
   "source": [
    "X = np.linspace(A,B,1000)\n",
    "Y_app = [u_app(x) for x in X]"
   ]
  },
  {
   "cell_type": "code",
   "execution_count": 236,
   "id": "6d126b2a",
   "metadata": {},
   "outputs": [
    {
     "data": {
      "text/plain": [
       "[<matplotlib.lines.Line2D at 0x1d9327a6450>]"
      ]
     },
     "execution_count": 236,
     "metadata": {},
     "output_type": "execute_result"
    },
    {
     "data": {
      "image/png": "[encoded data removed]",
      "text/plain": [
       "<Figure size 640x480 with 1 Axes>"
      ]
     },
     "metadata": {},
     "output_type": "display_data"
    }
   ],
   "source": [
    "plt.plot( X,real(X))\n",
    "plt.plot( X,Y_app)"
   ]
  },
  {
   "cell_type": "code",
   "execution_count": null,
   "id": "4d10931e",
   "metadata": {},
   "outputs": [],
   "source": []
  },
  {
   "cell_type": "code",
   "execution_count": null,
   "id": "fccf0057",
   "metadata": {},
   "outputs": [],
   "source": []
  }
 ],
 "metadata": {
  "kernelspec": {
   "display_name": "Python 3 (ipykernel)",
   "language": "python",
   "name": "python3"
  },
  "language_info": {
   "codemirror_mode": {
    "name": "ipython",
    "version": 3
   },
   "file_extension": ".py",
   "mimetype": "text/x-python",
   "name": "python",
   "nbconvert_exporter": "python",
   "pygments_lexer": "ipython3",
   "version": "3.11.4"
  }
 },
 "nbformat": 4,
 "nbformat_minor": 5
}
