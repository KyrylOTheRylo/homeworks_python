{
 "cells": [
  {
   "cell_type": "code",
   "execution_count": 2,
   "id": "d7680a84",
   "metadata": {},
   "outputs": [],
   "source": [
    "import numpy as np\n",
    "\n",
    "A = np.array([[40,10],[7,3]])\n"
   ]
  },
  {
   "cell_type": "code",
   "execution_count": 3,
   "id": "e6e5b2c5",
   "metadata": {},
   "outputs": [
    {
     "data": {
      "text/plain": [
       "array([[40, 10],\n",
       "       [ 7,  3]])"
      ]
     },
     "execution_count": 3,
     "metadata": {},
     "output_type": "execute_result"
    }
   ],
   "source": [
    "A"
   ]
  },
  {
   "cell_type": "code",
   "execution_count": 4,
   "id": "79e9a96d",
   "metadata": {},
   "outputs": [],
   "source": [
    "cost = np.array([[0,500], [10000, - 100000]])"
   ]
  },
  {
   "cell_type": "code",
   "execution_count": 14,
   "id": "92331af8",
   "metadata": {},
   "outputs": [
    {
     "name": "stdout",
     "output_type": "stream",
     "text": [
      "0.21666666666666667\n",
      "0\n",
      "0\n",
      "0\n",
      "0\n",
      "0\n",
      "0\n",
      "0\n",
      "0\n",
      "0\n",
      "0\n",
      "0\n",
      "0\n",
      "0\n",
      "0\n",
      "0\n",
      "0\n",
      "0\n",
      "0\n",
      "0\n",
      "0\n",
      "0\n",
      "0\n",
      "0\n",
      "0\n",
      "0\n",
      "0\n",
      "0\n",
      "0\n",
      "0\n",
      "0\n",
      "0\n",
      "0\n",
      "0\n",
      "0\n",
      "0\n",
      "0\n",
      "0\n",
      "0\n",
      "0\n",
      "0\n",
      "0\n",
      "0\n",
      "0\n",
      "0\n",
      "0\n",
      "0\n",
      "0\n",
      "0\n",
      "0\n",
      "0\n",
      "0\n",
      "0\n",
      "0\n",
      "0\n",
      "0\n",
      "0\n",
      "0\n",
      "0\n",
      "1\n",
      "1\n",
      "1\n",
      "1\n",
      "1\n",
      "1\n",
      "1\n",
      "1\n",
      "1\n",
      "1\n",
      "1\n",
      "1\n",
      "1\n",
      "1\n",
      "1\n",
      "1\n",
      "1\n",
      "2\n",
      "2\n",
      "2\n",
      "2\n",
      "2\n",
      "2\n",
      "2\n",
      "2\n",
      "2\n",
      "2\n",
      "2\n",
      "2\n",
      "2\n",
      "2\n",
      "2\n",
      "2\n",
      "2\n",
      "2\n",
      "2\n",
      "2\n",
      "2\n",
      "2\n",
      "2\n",
      "2\n",
      "2\n",
      "2\n",
      "Best Threshold: 0.0\n",
      "Minimum Expected Cost: -3316.666666666667\n"
     ]
    }
   ],
   "source": [
    "import numpy as np\n",
    "\n",
    "# Define the data and cost matrix\n",
    "A = np.array([[40, 10], [7, 3]])\n",
    "cost = np.array([[0, 500], [10000, -100000]])\n",
    "\n",
    "# Calculate probabilities of being in each class (smoking, not smoking)\n",
    "total_samples = np.sum(A)\n",
    "p_smoking = np.sum(A[:, 1]) / total_samples\n",
    "p_not_smoking = 1 - p_smoking\n",
    "\n",
    "print(p_smoking)\n",
    "\n",
    "# Initialize variables to keep track of best threshold and minimum expected cost\n",
    "best_threshold = None\n",
    "min_expected_cost = float('inf')\n",
    "\n",
    "# Loop over possible thresholds\n",
    "for threshold in np.arange(0, 1.01, 0.01):\n",
    "    # Calculate the number of true negatives, false positives, false negatives, and true positives\n",
    "    true_negatives = np.sum((A[:, 1] * (1 - threshold)) <= A[:, 1])\n",
    "    false_positives = np.sum((A[:, 0] * (1 - threshold)) > A[:, 1])\n",
    "    false_negatives = np.sum((A[:, 0] * threshold) >= A[:, 1])\n",
    "    true_positives = np.sum((A[:, 0] * threshold) < A[:, 1])\n",
    "    \n",
    "    # Calculate the probabilities of each outcome\n",
    "    p_true_negative = true_negatives / total_samples\n",
    "\n",
    "    p_false_positive = false_positives / total_samples\n",
    "    p_false_negative = false_negatives / total_samples\n",
    "    p_true_positive = true_positives / total_samples\n",
    "    \n",
    "    # Calculate the expected cost for this threshold\n",
    "    expected_cost = (\n",
    "        cost[0, 0] * p_true_negative + \n",
    "        cost[0, 1] * p_false_positive + \n",
    "        cost[1, 0] * p_false_negative + \n",
    "        cost[1, 1] * p_true_positive\n",
    "    )\n",
    "    \n",
    "    # Check if this threshold has a lower expected cost\n",
    "    if expected_cost < min_expected_cost:\n",
    "        min_expected_cost = expected_cost\n",
    "        best_threshold = threshold\n",
    "\n",
    "print(\"Best Threshold:\", best_threshold)\n",
    "print(\"Minimum Expected Cost:\", min_expected_cost)"
   ]
  },
  {
   "cell_type": "code",
   "execution_count": null,
   "id": "b8855154",
   "metadata": {},
   "outputs": [],
   "source": []
  },
  {
   "cell_type": "code",
   "execution_count": 11,
   "id": "ac4490c8",
   "metadata": {},
   "outputs": [
    {
     "name": "stdout",
     "output_type": "stream",
     "text": [
      "[40  7]\n"
     ]
    }
   ],
   "source": [
    "print(A[:, 0])"
   ]
  },
  {
   "cell_type": "code",
   "execution_count": null,
   "id": "9b8e3643",
   "metadata": {},
   "outputs": [],
   "source": []
  }
 ],
 "metadata": {
  "kernelspec": {
   "display_name": "Python 3 (ipykernel)",
   "language": "python",
   "name": "python3"
  },
  "language_info": {
   "codemirror_mode": {
    "name": "ipython",
    "version": 3
   },
   "file_extension": ".py",
   "mimetype": "text/x-python",
   "name": "python",
   "nbconvert_exporter": "python",
   "pygments_lexer": "ipython3",
   "version": "3.11.4"
  }
 },
 "nbformat": 4,
 "nbformat_minor": 5
}
